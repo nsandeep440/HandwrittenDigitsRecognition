{
 "cells": [
  {
   "cell_type": "code",
   "execution_count": 23,
   "metadata": {},
   "outputs": [],
   "source": [
    "# 1. Import Numpy python library\n",
    "import numpy as np\n",
    "import os\n",
    "import PIL\n",
    "from PIL import Image\n"
   ]
  },
  {
   "cell_type": "code",
   "execution_count": null,
   "metadata": {},
   "outputs": [],
   "source": []
  },
  {
   "cell_type": "code",
   "execution_count": 24,
   "metadata": {},
   "outputs": [],
   "source": [
    "# 2. Import Keras library and extract sequential class from this library\n",
    "from keras.models import Sequential\n",
    "from keras.layers.core import Flatten, Dense, Dropout\n",
    "from keras.layers.convolutional import Convolution2D, MaxPooling2D, ZeroPadding2D\n",
    "from keras.optimizers import SGD, Adam\n",
    "from keras.utils import to_categorical\n",
    "from keras import backend as K"
   ]
  },
  {
   "cell_type": "code",
   "execution_count": 25,
   "metadata": {},
   "outputs": [
    {
     "name": "stdout",
     "output_type": "stream",
     "text": [
      "/Users/sandeepn/Desktop/NumberPlateRec/CharRecognition/HandwrittenDigitsRecognition/dataset/\n"
     ]
    }
   ],
   "source": [
    "folderPath = '/Users/sandeepn/Desktop/NumberPlateRec/CharRecognition/HandwrittenDigitsRecognition'\n",
    "imagesPath = folderPath + '/dataset/'\n",
    "print(imagesPath)"
   ]
  },
  {
   "cell_type": "markdown",
   "metadata": {},
   "source": [
    "# Get list of all image files"
   ]
  },
  {
   "cell_type": "code",
   "execution_count": 29,
   "metadata": {},
   "outputs": [
    {
     "name": "stdout",
     "output_type": "stream",
     "text": [
      "1969\n"
     ]
    }
   ],
   "source": [
    "img_files = []\n",
    "for root, dirs, files in os.walk(imagesPath):\n",
    "    img_files.extend(files)\n",
    "print(len(img_files))"
   ]
  },
  {
   "cell_type": "markdown",
   "metadata": {},
   "source": [
    "# Resize images to 28x28"
   ]
  },
  {
   "cell_type": "code",
   "execution_count": 10,
   "metadata": {},
   "outputs": [
    {
     "name": "stdout",
     "output_type": "stream",
     "text": [
      "(28, 28, 3)\n"
     ]
    }
   ],
   "source": [
    "size = 28\n",
    "def read_image(f):\n",
    "    im = Image.open(f)\n",
    "    im = im.resize((size, size), PIL.Image.NEAREST)\n",
    "    im = np.asarray(im, dtype='float64')\n",
    "    im[:,:,0] -= 103.939\n",
    "    im[:,:,1] -= 116.779\n",
    "    im[:,:,2] -= 123.68\n",
    "    #im = im.reshape(1,224,224,3)\n",
    "    im = im.reshape(size,size,3)\n",
    "    return(im)\n",
    "\n",
    "os.chdir(imagesPath)\n",
    "im = read_image('0-1.png')\n",
    "print(im.shape)\n",
    "#print(im)"
   ]
  },
  {
   "cell_type": "code",
   "execution_count": 12,
   "metadata": {},
   "outputs": [
    {
     "name": "stdout",
     "output_type": "stream",
     "text": [
      "('Total number of images:', 1969)\n",
      "('Sample images taken:', 1969)\n",
      "1969\n"
     ]
    }
   ],
   "source": [
    "n_files = len(img_files)\n",
    "print('Total number of images:', n_files)\n",
    "\n",
    "train_size = n_files\n",
    "sample_size = min(n_files,train_size)\n",
    "print('Sample images taken:', sample_size)\n",
    "sample = [img_files[i] for i in np.random.choice(len(files),size=sample_size, replace=False)]\n",
    "\n",
    "print(len(sample))"
   ]
  },
  {
   "cell_type": "code",
   "execution_count": 16,
   "metadata": {},
   "outputs": [
    {
     "name": "stdout",
     "output_type": "stream",
     "text": [
      "['img029-00059.png', 'img023-00002.png', '1-8.png', 'img006-00053.png', 'img032-00019.png', 'img030-00106.png', 'img029-00065.png', 'img029-00071.png', 'img030-00112.png', 'img018-00183.png', 'img011-00488.png', 'img011-00463.png', 'img011-00305.png', 'img011-00311.png', 'img011-00477.png', 'img010-00010.png', 'img011-00339.png', 'img010-00004.png', 'img026-00151.png', 'img029-00267.png', 'img030-00304.png', 'img030-00310.png', 'img029-00273.png', 'img029-00298.png', 'img011-00107.png', 'img025-00159.png', 'img011-00113.png', 'img025-00171.png', 'img014-00108.png', 'img015-00235.png', 'img030-00258.png', 'img029-00313.png', 'img022-00061.png', 'img030-00270.png', 'img030-00264.png', 'img011-00098.png', 'img029-00307.png', 'img011-00073.png', 'img011-00067.png', 'img034-00022.png', 'img024-00338.png', 'img028-00204.png', 'img004-00010.png', 'img029-00139.png', 'img012-00090.png', 'img015-00037.png', 'img030-00072.png', 'img029-00111.png', 'img029-00105.png', 'img030-00066.png', 'img021-00041.png', 'img011-00517.png', 'img011-00271.png', 'img011-00265.png', 'img030-00099.png', 'img011-00503.png', 'img009-00013.png', 'img011-00259.png', 'img021-00082.png', 'img011-00258.png', 'img009-00012.png', 'img030-00098.png', 'img011-00264.png', 'img011-00502.png', 'img012-00046.png', 'img011-00516.png', 'img011-00270.png', 'img030-00067.png', 'img029-00104.png', 'img029-00110.png', 'img004-00039.png', 'img017-00101.png', 'img030-00073.png', 'img029-00138.png', 'img015-00036.png', 'img028-00205.png', 'img024-00339.png', 'img011-00066.png', 'img011-00072.png', 'img019-00136.png', 'img029-00306.png', 'img011-00099.png', 'img030-00265.png', 'img030-00271.png', 'img029-00312.png', 'img033-00047.png', 'img015-00234.png', 'img030-00259.png', 'img014-00109.png', 'img007-00031.png', 'img013-00031.png', 'img025-00170.png', 'img011-00112.png', 'img011-00106.png', 'img029-00299.png', 'img029-00272.png', 'img030-00311.png', 'img030-00305.png', 'img029-00266.png', 'img010-00005.png', 'img011-00338.png', 'img010-00011.png', 'img024-00073.png', 'img011-00310.png', 'img011-00476.png', 'img011-00462.png', 'img011-00304.png', 'img030-00113.png', 'img017-00061.png', 'img029-00070.png', 'img011-00489.png', 'img018-00182.png', 'img032-00018.png', 'img006-00052.png', 'img029-00064.png', 'img024-00098.png', 'img030-00107.png', '1-9.png', 'img029-00058.png', 'img030-00139.png', 'img032-00026.png', 'img029-00072.png', 'img030-00111.png', 'img017-00077.png', 'img030-00105.png', 'img029-00066.png', 'img011-00474.png', 'img035-00056.png', 'img011-00312.png', 'img029-00099.png', 'img011-00306.png', 'img011-00460.png', 'img011-00448.png', 'img026-00152.png', 'img018-00143.png', 'img010-00007.png', 'img010-00013.png', '1-20.png', 'img019-00083.png', 'img020-00035.png', 'img029-00258.png', 'img029-00270.png', 'img014-00057.png', 'img014-00043.png', 'img029-00264.png', 'img030-00307.png', 'img011-00110.png', 'img011-00104.png', 'img014-00094.png', 'img019-00068.png', 'img013-00033.png', 'img011-00138.png', 'img029-00338.png', 'img007-00033.png', 'img028-00005.png', 'img030-00267.png', 'img029-00304.png', 'img029-00310.png', 'img016-00028.png', 'img030-00273.png', 'img022-00062.png', 'img030-00298.png', 'img011-00064.png', 'img034-00009.png', 'img011-00070.png', 'img011-00058.png', 'img030-00059.png', 'img028-00207.png', 'img012-00087.png', 'img011-00299.png', 'img029-00106.png', 'img030-00065.png', 'img030-00071.png', 'img011-00500.png', 'img011-00266.png', 'img011-00272.png', 'img011-00514.png', 'img009-00010.png', 'img025-00204.png', 'img011-00528.png', 'img011-00529.png', 'img026-00027.png', 'img009-00011.png', 'img011-00273.png', 'img011-00515.png', 'img011-00501.png', 'img011-00267.png', 'img029-00113.png', 'img023-00148.png', 'img030-00070.png', 'img021-00043.png', 'img017-00116.png', 'img030-00064.png', 'img011-00298.png', 'img028-00212.png', 'img030-00058.png', 'img034-00020.png', 'img011-00059.png', 'img011-00071.png', 'img011-00065.png', 'img030-00299.png', 'img030-00272.png', 'img029-00311.png', 'img029-00305.png', 'img030-00266.png', 'img007-00032.png', 'img029-00339.png', 'img028-00010.png', 'img007-00026.png', 'img014-00081.png', 'img013-00026.png', 'img011-00139.png', 'img011-00105.png', 'img011-00111.png', 'img030-00306.png', 'img029-00265.png', 'img029-00271.png', 'img030-00312.png', 'img020-00034.png', 'img029-00259.png', 'img031-00013.png', 'img020-00020.png', 'img010-00012.png', 'img026-00153.png', 'img011-00449.png', 'img010-00006.png', 'img011-00307.png', 'img011-00461.png', 'img011-00475.png', 'img011-00313.png', 'img029-00067.png', 'img030-00104.png', 'img017-00076.png', 'img006-00051.png', 'img018-00181.png', 'img030-00110.png', 'img029-00073.png', 'img030-00138.png', 'img029-00077.png', 'img017-00066.png', 'img030-00114.png', 'img030-00100.png', 'img029-00063.png', 'img030-00128.png', 'img010-00002.png', 'img024-00048.png', 'img011-00459.png', 'img010-00016.png', 'img011-00317.png', 'img024-00074.png', 'img035-00053.png', 'img011-00471.png', 'img035-00047.png', 'img011-00465.png', 'img011-00303.png', 'img014-00052.png', '1-19.png', 'img029-00275.png', 'img029-00261.png', 'img030-00302.png', 'img029-00249.png', 'img031-00003.png', 'img011-00129.png', 'img011-00115.png', 'img011-00101.png', 'img030-00262.png', 'img022-00073.png', 'img029-00301.png', 'img028-00028.png', 'img029-00315.png', 'img030-00276.png', 'img016-00011.png', 'img029-00329.png', 'img007-00036.png', 'img011-00049.png', 'img034-00024.png', 'img011-00061.png', 'img011-00075.png', 'img030-00289.png', 'img029-00103.png', 'img030-00060.png', '.DS_Store', 'img030-00074.png', 'img011-00288.png', 'img029-00117.png', 'img028-00216.png', 'img030-00048.png', 'img009-00015.png', 'img011-00539.png', 'img012-00069.png', 'img021-00090.png', 'img009-00001.png', 'img025-00229.png', 'img011-00263.png', 'img011-00505.png', 'img011-00511.png', 'img011-00277.png', 'img012-00040.png', 'img011-00510.png', 'img011-00276.png', 'img011-00262.png', 'img025-00228.png', 'img011-00504.png', 'img021-00091.png', 'img011-00538.png', 'img030-00049.png', 'img028-00217.png', 'img015-00030.png', 'img021-00052.png', 'img029-00116.png', 'img011-00289.png', 'img030-00075.png', 'img030-00061.png', 'img029-00102.png', 'img030-00288.png', 'img011-00074.png', 'img024-00303.png', 'img011-00060.png', 'img025-00002.png', 'img011-00048.png', 'img029-00328.png', 'img015-00226.png', 'img007-00037.png', 'img016-00004.png', 'img030-00277.png', 'img029-00314.png', 'img029-00300.png', 'img022-00072.png', 'img030-00263.png', 'img016-00038.png', 'img011-00100.png', 'img011-00114.png', 'img011-00128.png', 'img015-00352.png', 'img031-00002.png', 'img029-00248.png', 'img030-00303.png', 'img029-00260.png', 'img029-00274.png', '1-18.png', 'img011-00464.png', 'img011-00302.png', 'img011-00316.png', 'img011-00470.png', 'img011-00458.png', 'img010-00017.png', 'img010-00003.png', 'img030-00129.png', 'img006-00054.png', 'img029-00062.png', 'img030-00101.png', 'img030-00115.png', 'img029-00076.png', 'img018-00184.png', 'img017-00071.png', 'img030-00103.png', 'img029-00060.png', 'img011-00499.png', 'img006-00056.png', 'img006-00042.png', 'img024-00088.png', 'img029-00074.png', 'img030-00117.png', 'img023-00007.png', 'img032-00020.png', 'img017-00059.png', 'img029-00048.png', 'img010-00015.png', 'img010-00001.png', 'img011-00328.png', 'img011-00300.png', 'img010-00029.png', 'img011-00466.png', 'img018-00179.png', 'img011-00472.png', 'img011-00314.png', 'img029-00262.png', 'img030-00301.png', 'img029-00276.png', 'img014-00051.png', 'img019-00085.png', 'img028-00163.png', 'img013-00021.png', 'img028-00188.png', 'img025-00160.png', 'img013-00035.png', 'img011-00102.png', 'img029-00289.png', 'img011-00116.png', 'img011-00089.png', 'img029-00316.png', 'img030-00275.png', 'img030-00261.png', 'img029-00302.png', 'img013-00182.png', 'img016-00012.png', 'img030-00249.png', 'img034-00027.png', 'img019-00132.png', 'img011-00076.png', 'img011-00062.png', 'img030-00077.png', 'img029-00114.png', 'img029-00100.png', 'img030-00063.png', 'img029-00128.png', 'img004-00001.png', 'img011-00248.png', 'img026-00020.png', 'img009-00016.png', 'img030-00088.png', 'img011-00274.png', 'img011-00512.png', 'img011-00506.png', 'img011-00260.png', 'img012-00057.png', 'img011-00507.png', 'img011-00261.png', 'img011-00275.png', 'img030-00089.png', 'img011-00513.png', 'img009-00017.png', 'img009-00003.png', 'img011-00249.png', 'img029-00129.png', 'img015-00027.png', 'img030-00062.png', 'img029-00101.png', 'img029-00115.png', 'img030-00076.png', 'img021-00051.png', 'img011-00063.png', 'img011-00077.png', 'img025-00001.png', 'img007-00034.png', 'img030-00248.png', 'img016-00013.png', 'img029-00303.png', 'img030-00260.png', 'img022-00071.png', 'img033-00056.png', 'img030-00274.png', 'img029-00317.png', 'img011-00088.png', 'img011-00117.png', 'img029-00288.png', 'img011-00103.png', 'img008-00048.png', 'img013-00034.png', 'img013-00020.png', 'img028-00189.png', 'img028-00162.png', 'img020-00032.png', 'img031-00015.png', 'img029-00277.png', 'img030-00300.png', 'img029-00263.png', 'img011-00473.png', 'img015-00184.png', 'img018-00178.png', 'img011-00315.png', 'img010-00028.png', 'img011-00301.png', 'img011-00467.png', 'img018-00144.png', 'img011-00329.png', 'img025-00377.png', 'img010-00014.png', 'img015-00147.png', 'img029-00049.png', 'img023-00006.png', 'img032-00021.png', 'img030-00116.png', 'img029-00075.png', 'img024-00089.png', 'img029-00061.png', 'img030-00102.png', 'img011-00498.png', 'img030-00159.png', 'img032-00046.png', 'img032-00052.png', 'img011-00399.png', 'img029-00006.png', 'img017-00017.png', 'img030-00165.png', '2-11.png', 'img006-00024.png', 'img017-00003.png', 'img030-00171.png', 'img023-00049.png', 'img029-00012.png', 'img011-00366.png', 'img011-00400.png', 'img035-00022.png', 'img011-00414.png', 'img011-00372.png', 'img026-00126.png', 'img018-00123.png', 'img011-00428.png', 'img029-00238.png', 'img031-00072.png', 'img031-00066.png', 'img020-00069.png', 'img029-00204.png', 'img029-00210.png', 'img005-00010.png', 'img008-00007.png', 'img022-00189.png', 'img011-00164.png', 'img011-00170.png', 'img027-00025.png', 'img011-00158.png', 'img019-00008.png', 'img025-00099.png', '2-9.png', 'img016-00048.png', 'img030-00213.png', 'img022-00002.png', 'img030-00207.png', 'img011-00010.png', 'img011-00004.png', 'img013-00133.png', 'img011-00038.png', 'img015-00054.png', 'img030-00039.png', 'img030-00011.png', 'img018-00094.png', 'img015-00068.png', 'img030-00005.png', '0-14.png', 'img029-00166.png', 'img011-00212.png', 'img029-00199.png', 'img011-00206.png', 'img028-00298.png', 'img011-00548.png', 'img018-00043.png', 'img028-00299.png', 'img011-00549.png', 'img011-00207.png', 'img029-00198.png', 'img011-00213.png', '0-15.png', 'img030-00004.png', 'img030-00010.png', 'img030-00038.png', 'img011-00039.png', 'img014-00181.png', 'img013-00132.png', 'img011-00005.png', 'img011-00011.png', 'img030-00206.png', 'img030-00212.png', 'img016-00049.png', '2-8.png', 'img025-00098.png', 'img025-00107.png', 'img011-00159.png', 'img011-00171.png', 'img036-00003.png', 'img027-00024.png', 'img019-00021.png', 'img027-00030.png', 'img011-00165.png', 'img022-00188.png', 'img029-00211.png', 'img029-00205.png', 'img029-00239.png', 'img011-00429.png', 'img018-00136.png', 'img026-00127.png', 'img035-00037.png', 'img011-00415.png', 'img011-00373.png', 'img011-00367.png', 'img011-00401.png', 'img032-00084.png', '2-10.png', 'img029-00013.png', 'img023-00048.png', 'img030-00170.png', 'img030-00164.png', 'img029-00007.png', 'img011-00398.png', 'img006-00031.png', 'img030-00158.png', 'img032-00047.png', 'img029-00039.png', 'img030-00172.png', 'img029-00011.png', '2-12.png', 'img006-00027.png', 'img006-00033.png', 'img029-00005.png', 'img017-00014.png', 'img030-00166.png', 'img011-00371.png', 'img024-00012.png', 'img011-00417.png', 'img035-00035.png', 'img011-00403.png', 'img035-00021.png', 'img011-00365.png', 'img030-00199.png', 'img026-00125.png', 'img011-00359.png', 'img025-00313.png', 'img031-00071.png', 'img029-00213.png', 'img011-00198.png', 'img029-00207.png', 'img027-00026.png', 'img036-00001.png', 'img011-00173.png', 'img008-00004.png', 'img024-00204.png', 'img011-00167.png', 'img013-00078.png', 'img019-00023.png', 'img013-00050.png', 'img013-00044.png', 'img016-00063.png', 'img030-00238.png', 'img033-00032.png', 'img030-00204.png', 'img022-00001.png', 'img030-00210.png', 'img011-00007.png', 'img011-00013.png', 'img029-00159.png', '0-8.png', 'img030-00006.png', '0-17.png', 'img029-00165.png', 'img018-00097.png', 'img018-00083.png', 'img021-00035.png', 'img026-00092.png', 'img030-00012.png', 'img011-00205.png', 'img011-00211.png', 'img011-00239.png', 'img011-00238.png', 'img018-00055.png', 'img011-00210.png', 'img011-00204.png', 'img026-00093.png', 'img030-00013.png', '0-16.png', 'img030-00007.png', 'img021-00008.png', '0-9.png', 'img029-00158.png', 'img013-00131.png', 'img014-00182.png', 'img034-00057.png', 'img011-00012.png', 'img011-00006.png', 'img030-00211.png', 'img030-00205.png', 'img016-00076.png', 'img028-00067.png', 'img007-00051.png', 'img030-00239.png', 'img008-00039.png', 'img011-00166.png', 'img019-00022.png', 'img027-00027.png', 'img008-00011.png', 'img011-00172.png', 'img029-00206.png', 'img011-00199.png', 'img029-00212.png', 'img026-00124.png', 'img025-00312.png', 'img011-00358.png', 'img026-00118.png', 'img011-00402.png', 'img030-00198.png', 'img024-00007.png', 'img011-00364.png', 'img024-00013.png', 'img011-00370.png', 'img011-00416.png', 'img032-00078.png', 'img030-00167.png', 'img029-00004.png', 'img029-00010.png', 'img030-00173.png', 'img006-00026.png', '2-13.png', 'img029-00038.png', '2-17.png', 'img030-00177.png', 'img029-00014.png', 'img030-00163.png', 'img032-00054.png', 'img028-00301.png', 'img029-00028.png', 'img023-00073.png', 'img011-00348.png', 'img035-00018.png', 'img011-00412.png', 'img018-00119.png', 'img030-00188.png', 'img011-00374.png', 'img024-00017.png', 'img011-00360.png', 'img024-00003.png', 'img032-00083.png', 'img035-00024.png', 'img011-00406.png', 'img011-00189.png', 'img029-00216.png', 'img005-00002.png', 'img029-00202.png', 'img020-00053.png', 'img036-00038.png', 'img011-00176.png', 'img019-00032.png', 'img027-00023.png', 'img013-00069.png', 'img019-00026.png', 'img036-00010.png', 'img011-00162.png', 'img030-00201.png', 'img033-00037.png', 'img030-00215.png', 'img007-00041.png', 'img030-00229.png', 'img011-00002.png', 'img011-00016.png', 'img018-00092.png', 'img030-00003.png', '0-12.png', 'img004-00049.png', 'img029-00160.png', 'img030-00017.png', 'img022-00206.png', 'img021-00030.png', 'img029-00148.png', 'img015-00046.png', 'img011-00228.png', 'img011-00200.png', 'img011-00214.png', 'img011-00215.png', 'img015-00084.png', 'img011-00201.png', 'img011-00229.png', 'img018-00050.png', 'img029-00149.png', 'img015-00047.png', 'img022-00207.png', 'img030-00016.png', 'img029-00175.png', 'img029-00161.png', 'img004-00048.png', '0-13.png', 'img030-00002.png', 'img011-00017.png', 'img011-00003.png', 'img034-00046.png', 'img025-00061.png', 'img030-00228.png', 'img016-00073.png', 'img030-00214.png', 'img030-00200.png', 'img022-00011.png', 'img019-00027.png', 'img011-00163.png', 'img036-00011.png', 'img011-00177.png', 'img024-00214.png', 'img027-00022.png', 'img019-00033.png', 'img036-00039.png', 'img031-00075.png', 'img029-00203.png', 'img029-00217.png', 'img011-00188.png', 'img011-00361.png', 'img011-00407.png', 'img011-00413.png', 'img011-00375.png', 'img030-00189.png', 'img011-00349.png', 'img029-00029.png', 'img030-00162.png', 'img017-00010.png', 'img028-00328.png', 'img029-00001.png', 'img006-00023.png', '2-16.png', 'img029-00015.png', 'img030-00176.png', 'img029-00003.png', 'img017-00012.png', 'img030-00160.png', 'img030-00174.png', 'img011-00388.png', 'img029-00017.png', '2-14.png', 'img032-00043.png', 'img028-00302.png', 'img030-00148.png', 'img011-00439.png', 'img011-00405.png', 'img011-00363.png', 'img011-00377.png', 'img011-00411.png', 'img005-00001.png', 'img029-00201.png', 'img029-00215.png', 'img029-00229.png', 'img031-00088.png', 'img027-00008.png', 'img011-00149.png', 'img011-00161.png', 'img019-00031.png', 'img027-00020.png', 'img036-00007.png', 'img011-00175.png', 'img008-00016.png', 'img030-00216.png', 'img030-00202.png', 'img007-00056.png', 'img011-00029.png', 'img025-00063.png', 'img013-00136.png', 'img025-00077.png', 'img011-00015.png', 'img011-00001.png', 'img021-00033.png', 'img026-00094.png', 'img029-00177.png', 'img030-00014.png', '0-11.png', 'img021-00027.png', 'img030-00028.png', 'img018-00052.png', 'img026-00043.png', 'img012-00009.png', 'img015-00086.png', 'img029-00188.png', 'img011-00217.png', 'img011-00203.png', 'img011-00202.png', 'img011-00216.png', 'img029-00189.png', 'img012-00008.png', 'img026-00042.png', 'img011-00558.png', 'img015-00050.png', 'img030-00029.png', 'img029-00162.png', '0-10.png', 'img030-00001.png', 'img022-00210.png', 'img026-00095.png', 'img018-00084.png', 'img030-00015.png', 'img029-00176.png', 'img011-00014.png', 'img034-00079.png', 'img034-00051.png', 'img011-00028.png', 'img034-00045.png', 'img007-00057.png', 'img030-00203.png', 'img016-00058.png', 'img030-00217.png', 'img011-00174.png', 'img036-00006.png', 'img024-00217.png', 'img011-00160.png', 'img008-00003.png', 'img019-00024.png', 'img011-00148.png', 'img031-00089.png', 'img027-00009.png', 'img019-00018.png', 'img029-00228.png', 'img005-00028.png', 'img020-00051.png', 'img029-00214.png', 'img029-00200.png', 'img011-00376.png', 'img011-00410.png', 'img035-00032.png', 'img011-00404.png', 'img032-00081.png', 'img011-00362.png', 'img011-00438.png', 'img025-00314.png', 'img030-00149.png', 'img028-00303.png', 'img032-00056.png', 'img029-00016.png', 'img011-00389.png', 'img030-00175.png', '2-15.png', 'img006-00034.png', 'img023-00059.png', 'img030-00161.png', 'img029-00002.png', 'img011-00384.png', 'img030-00178.png', '2-18.png', 'img011-00390.png', 'img030-00144.png', 'img029-00027.png', 'img006-00005.png', 'img029-00033.png', 'img030-00150.png', 'img011-00347.png', 'img011-00421.png', 'img011-00435.png', 'img011-00353.png', 'img024-00018.png', 'img030-00187.png', 'img011-00409.png', 'img030-00193.png', 'img020-00074.png', 'img031-00053.png', 'img005-00019.png', 'img011-00186.png', 'img029-00219.png', 'img011-00192.png', 'img014-00002.png', 'img029-00225.png', 'img005-00025.png', 'img029-00231.png', 'img027-00010.png', 'img024-00226.png', 'img011-00145.png', 'img031-00084.png', 'img011-00151.png', 'img027-00004.png', 'img011-00179.png', 'img033-00038.png', 'img033-00004.png', 'img030-00232.png', 'img022-00023.png', 'img030-00226.png', 'img011-00031.png', 'img011-00025.png', 'img011-00019.png', 'img024-00193.png', 'img023-00134.png', 'img030-00018.png', 'img022-00209.png', 'img028-00252.png', 'img030-00030.png', '0-21.png', 'img029-00153.png', 'img029-00147.png', '0-2.png', 'img030-00024.png', 'img011-00233.png', 'img011-00555.png', 'img012-00005.png', 'img011-00541.png', 'img011-00227.png', 'img029-00190.png', 'img018-00062.png', 'img012-00039.png', 'img029-00184.png', 'img029-00185.png', 'img029-00191.png', 'img026-00072.png', 'img018-00063.png', 'img011-00540.png', 'img011-00226.png', 'img011-00232.png', 'img012-00004.png', 'img011-00554.png', 'img021-00002.png', 'img030-00025.png', '0-3.png', 'img029-00146.png', 'img029-00152.png', '0-20.png', 'img030-00031.png', 'img028-00253.png', 'img030-00019.png', 'img023-00135.png', 'img011-00018.png', 'img011-00024.png', 'img034-00049.png', 'img011-00030.png', '2-1.png', 'img030-00227.png', 'img033-00005.png', 'img030-00233.png', 'img011-00178.png', 'img011-00150.png', 'img027-00005.png', 'img027-00011.png', 'img031-00091.png', 'img011-00144.png', 'img036-00036.png', 'img024-00227.png', 'img029-00230.png', 'img014-00003.png', 'img005-00024.png', 'img029-00224.png', 'img011-00193.png', 'img029-00218.png', 'img011-00187.png', 'img005-00018.png', 'img031-00052.png', 'img026-00112.png', 'img011-00408.png', 'img030-00192.png', 'img030-00186.png', 'img024-00019.png', 'img018-00117.png', 'img011-00434.png', 'img011-00352.png', 'img011-00346.png', 'img011-00420.png', 'img030-00151.png', 'img017-00023.png', 'img029-00032.png', 'img029-00026.png', 'img030-00145.png', 'img011-00391.png', 'img028-00327.png', 'img030-00179.png', 'img011-00385.png', '2-19.png', 'img011-00393.png', 'img015-00102.png', 'img015-00116.png', 'img011-00387.png', 'img029-00018.png', 'img017-00009.png', 'img029-00030.png', 'img030-00153.png', 'img030-00147.png', 'img029-00024.png', 'img011-00350.png', 'img011-00436.png', 'img035-00014.png', 'img011-00422.png', 'img011-00344.png', 'img024-00027.png', 'img030-00190.png', 'img011-00378.png', 'img030-00184.png', 'img011-00191.png', 'img011-00185.png', 'img020-00077.png', 'img005-00032.png', 'img029-00232.png', 'img029-00226.png', 'img005-00026.png', 'img027-00007.png', 'img019-00016.png', 'img031-00087.png', 'img036-00020.png', 'img011-00152.png', 'img011-00146.png', 'img019-00002.png', 'img027-00013.png', 'img013-00071.png', 'img022-00183.png', 'img036-00008.png', 'img028-00053.png', 'img030-00219.png', 'img030-00225.png', '2-3.png', 'img030-00231.png', 'img014-00175.png', 'img011-00026.png', 'img024-00345.png', 'img011-00032.png', 'img013-00105.png', 'img029-00178.png', 'img021-00028.png', 'img029-00144.png', '0-1.png', 'img030-00027.png', 'img021-00014.png', 'img030-00033.png', 'img029-00150.png', 'img025-00285.png', 'img011-00224.png', 'img018-00049.png', 'img011-00542.png', 'img012-00012.png', 'img011-00556.png', 'img012-00006.png', 'img011-00230.png', 'img029-00187.png', 'img011-00218.png', 'img029-00193.png', 'img026-00071.png', 'img029-00192.png', 'img011-00219.png', 'img029-00186.png', 'img011-00557.png', 'img011-00231.png', 'img011-00225.png', 'img011-00543.png', 'img026-00059.png', 'img025-00284.png', 'img029-00151.png', 'img030-00032.png', 'img030-00026.png', 'img028-00244.png', 'img029-00179.png', 'img011-00033.png', 'img024-00344.png', 'img011-00027.png', 'img030-00230.png', 'img014-00174.png', 'img007-00058.png', '2-2.png', 'img030-00224.png', 'img007-00064.png', 'img030-00218.png', 'img036-00009.png', 'img024-00218.png', 'img022-00182.png', 'img011-00147.png', 'img027-00012.png', 'img019-00003.png', 'img019-00017.png', 'img027-00006.png', 'img011-00153.png', 'img025-00119.png', 'img029-00227.png', 'img029-00233.png', 'img011-00184.png', 'img031-00051.png', 'img014-00028.png', 'img011-00190.png', 'img030-00185.png', 'img011-00379.png', 'img030-00191.png', 'img035-00001.png', 'img011-00423.png', 'img011-00345.png', 'img023-00095.png', 'img011-00351.png', 'img011-00437.png', 'img029-00025.png', 'img030-00146.png', 'img030-00152.png', 'img029-00031.png', 'img006-00007.png', 'img029-00019.png', 'img011-00386.png', 'img011-00392.png', 'img032-00071.png', 'img006-00003.png', 'img029-00035.png', 'img030-00156.png', 'img030-00142.png', 'img029-00021.png', '2-22.png', 'img011-00396.png', 'img029-00009.png', 'img011-00382.png', 'img030-00195.png', 'img011-00369.png', 'img030-00181.png', 'img035-00011.png', 'img011-00433.png', 'img011-00355.png', 'img011-00341.png', 'img024-00022.png', 'img011-00427.png', 'img029-00237.png', 'img029-00223.png', 'img005-00023.png', 'img011-00194.png', 'img031-00041.png', 'img015-00311.png', 'img011-00180.png', 'img025-00121.png', 'img036-00019.png', 'img008-00008.png', 'img022-00186.png', 'img031-00082.png', 'img036-00025.png', 'img011-00157.png', 'img019-00007.png', 'img027-00016.png', 'img011-00143.png', 'img030-00220.png', '2-6.png', 'img033-00002.png', 'img022-00025.png', 'img030-00234.png', 'img030-00208.png', 'img028-00042.png', 'img034-00066.png', 'img011-00023.png', 'img024-00340.png', 'img011-00037.png', '0-4.png', 'img029-00141.png', 'img030-00022.png', 'img030-00036.png', 'img029-00155.png', 'img028-00254.png', 'img023-00132.png', 'img004-00040.png', 'img029-00182.png', 'img029-00196.png', 'img011-00209.png', 'img018-00064.png', 'img011-00547.png', 'img012-00017.png', 'img024-00142.png', 'img011-00221.png', 'img011-00235.png', 'img011-00553.png', 'img011-00234.png', 'img011-00552.png', 'img012-00016.png', 'img011-00546.png', 'img011-00220.png', 'img011-00208.png', 'img029-00197.png', 'img026-00060.png', 'img029-00183.png', 'img004-00041.png', 'img023-00133.png', 'img024-00194.png', 'img015-00072.png', 'img028-00255.png', 'img025-00281.png', 'img029-00154.png', 'img030-00037.png', 'img021-00004.png', 'img030-00023.png', 'img029-00140.png', '0-5.png', 'img024-00355.png', 'img011-00036.png', 'img024-00341.png', 'img011-00022.png', 'img034-00073.png', 'img030-00209.png', 'img007-00061.png', 'img033-00003.png', 'img030-00235.png', 'img022-00024.png', '2-7.png', 'img029-00342.png', 'img030-00221.png', 'img011-00142.png', 'img036-00030.png', 'img025-00108.png', 'img011-00156.png', 'img031-00083.png', 'img019-00012.png', 'img022-00187.png', 'img025-00120.png', 'img020-00073.png', 'img011-00181.png', 'img011-00195.png', 'img020-00067.png', 'img005-00022.png', 'img029-00222.png', 'img029-00236.png', 'img011-00340.png', 'img023-00084.png', 'img011-00426.png', 'img035-00004.png', 'img011-00432.png', 'img026-00128.png', 'img011-00354.png', 'img030-00180.png', 'img011-00368.png', 'img030-00194.png', 'img011-00383.png', 'img029-00008.png', 'img011-00397.png', 'img029-00020.png', 'img030-00143.png', 'img006-00002.png', 'img030-00157.png', 'img029-00034.png', '2-21.png', 'img030-00141.png', 'img029-00022.png', 'img029-00036.png', 'img030-00155.png', 'img011-00381.png', 'img030-00169.png', 'img011-00395.png', 'img011-00418.png', 'img030-00182.png', 'img030-00196.png', 'img018-00107.png', 'img035-00006.png', 'img011-00424.png', 'img011-00342.png', 'img024-00021.png', 'img011-00356.png', 'img011-00430.png', 'img029-00220.png', 'img005-00020.png', 'img014-00007.png', 'img014-00013.png', 'img029-00234.png', 'img031-00056.png', 'img011-00183.png', 'img011-00197.png', 'img028-00121.png', 'img029-00208.png', 'img013-00077.png', 'img011-00168.png', 'img022-00185.png', 'img036-00032.png', 'img011-00140.png', 'img019-00004.png', 'img011-00154.png', 'img030-00237.png', 'img022-00026.png', 'img014-00173.png', 'img033-00001.png', 'img030-00223.png', 'img029-00340.png', '2-5.png', 'img028-00055.png', 'img016-00044.png', 'img011-00008.png', 'img011-00034.png', 'img011-00020.png', 'img030-00035.png', 'img029-00156.png', 'img025-00283.png', '0-7.png', 'img029-00142.png', 'img030-00021.png', 'img018-00098.png', 'img030-00009.png', '0-18.png', 'img029-00195.png', 'img029-00181.png', 'img011-00550.png', 'img011-00236.png', 'img024-00141.png', 'img011-00222.png', 'img011-00544.png', 'img011-00223.png', 'img011-00545.png', 'img012-00001.png', 'img011-00551.png', 'img011-00237.png', 'img029-00180.png', 'img029-00194.png', '0-19.png', 'img030-00008.png', 'img030-00020.png', '0-6.png', 'img021-00007.png', 'img025-00282.png', 'img029-00157.png', 'img030-00034.png', 'img011-00021.png', 'img024-00356.png', 'img011-00035.png', 'img013-00102.png', 'img011-00009.png', 'img007-00062.png', 'img028-00040.png', '2-4.png', 'img028-00068.png', 'img029-00341.png', 'img030-00222.png', 'img030-00236.png', 'img011-00155.png', 'img011-00141.png', 'img027-00014.png', 'img019-00005.png', 'img022-00184.png', 'img011-00169.png', 'img027-00028.png', 'img005-00009.png', 'img029-00209.png', 'img011-00196.png', 'img011-00182.png', 'img014-00012.png', 'img029-00235.png', 'img005-00035.png', 'img005-00021.png', 'img029-00221.png', 'img014-00006.png', 'img011-00357.png', 'img011-00431.png', 'img011-00425.png', 'img024-00020.png', 'img011-00343.png', 'img030-00197.png', 'img018-00106.png', 'img026-00117.png', 'img011-00419.png', 'img030-00183.png', 'img011-00394.png', 'img030-00168.png', 'img006-00029.png', 'img011-00380.png', 'img030-00154.png', 'img029-00037.png', '2-20.png', 'img029-00023.png', 'img030-00140.png', 'img011-00481.png', 'img029-00078.png', 'img024-00090.png', 'img011-00495.png', '1-1.png', 'img029-00044.png', 'img030-00127.png', 'img017-00041.png', 'img030-00133.png', 'img029-00050.png', 'img011-00442.png', 'img026-00158.png', 'img011-00324.png', 'img011-00330.png', 'img010-00019.png', 'img012-00106.png', 'img011-00456.png', 'img010-00031.png', 'img029-00087.png', 'img011-00318.png', 'img010-00025.png', '1-16.png', 'img020-00017.png', 'img014-00049.png', 'img005-00046.png', 'img029-00246.png', 'img019-00089.png', 'img029-00252.png', 'img031-00018.png', 'img011-00126.png', 'img019-00062.png', 'img011-00132.png', 'img029-00285.png', 'img029-00291.png', 'img011-00091.png', 'img028-00027.png', 'img030-00279.png', 'img011-00085.png', 'img030-00251.png', 'img029-00332.png', 'img029-00326.png', 'img030-00245.png', 'img011-00052.png', 'img011-00046.png', 'img025-00024.png', 'img030-00292.png', 'img034-00017.png', 'img030-00286.png', 'img011-00293.png', 'img011-00287.png', 'img029-00118.png', 'img029-00130.png', 'img030-00053.png', 'img017-00121.png', 'img004-00019.png', 'img030-00047.png', 'img021-00060.png', 'img011-00536.png', 'img011-00250.png', 'img011-00244.png', 'img011-00522.png', 'img030-00090.png', 'img009-00026.png', 'img011-00278.png', 'img009-00032.png', 'img030-00084.png', 'img026-00004.png', 'img030-00085.png', 'img011-00279.png', 'img025-00233.png', 'img026-00005.png', 'img030-00091.png', 'img011-00245.png', 'img011-00523.png', 'img011-00537.png', 'img011-00251.png', 'img029-00125.png', 'img030-00046.png', 'img030-00052.png', 'img029-00131.png', 'img023-00142.png', 'img029-00119.png', 'img011-00286.png', 'img015-00003.png', 'img011-00292.png', 'img030-00287.png', 'img030-00293.png', 'img025-00025.png', 'img034-00002.png', 'img019-00103.png', 'img011-00047.png', 'img011-00053.png', 'img030-00244.png', 'img029-00327.png', 'img029-00333.png', 'img030-00250.png', 'img033-00066.png', 'img007-00004.png', 'img011-00084.png', 'img030-00278.png', 'img016-00037.png', 'img011-00090.png', 'img028-00026.png', 'img029-00290.png', 'img029-00284.png', 'img025-00151.png', 'img011-00133.png', 'img011-00127.png', 'img031-00019.png', 'img029-00253.png', 'img029-00247.png', 'img005-00047.png', 'img014-00048.png', 'img024-00293.png', '1-17.png', 'img010-00024.png', 'img011-00319.png', 'img010-00030.png', 'img029-00086.png', 'img010-00018.png', 'img011-00331.png', 'img011-00457.png', 'img026-00159.png', 'img035-00061.png', 'img011-00443.png', 'img011-00325.png', 'img029-00051.png', 'img030-00132.png', 'img030-00126.png', 'img029-00045.png', 'img028-00344.png', 'img011-00494.png', 'img015-00163.png', 'img011-00480.png', 'img029-00079.png', 'img006-00059.png', 'img011-00496.png', 'img030-00118.png', 'img011-00482.png', 'img018-00189.png', 'img030-00130.png', 'img023-00008.png', 'img029-00053.png', '1-2.png', 'img029-00047.png', 'img030-00124.png', 'img011-00455.png', 'img011-00333.png', 'img025-00379.png', 'img011-00327.png', 'img012-00111.png', 'img011-00441.png', 'img018-00162.png', 'img011-00469.png', 'img010-00026.png', 'img029-00084.png', 'img010-00032.png', 'img018-00176.png', 'img031-00027.png', 'img029-00279.png', '1-15.png', 'img029-00251.png', 'img020-00028.png', 'img029-00245.png', 'img011-00131.png', 'img008-00046.png', 'img011-00125.png', 'img029-00292.png', 'img029-00286.png', 'img011-00119.png', 'img011-00086.png', 'img029-00319.png', 'img013-00199.png', 'img033-00058.png', 'img011-00092.png', 'img029-00325.png', 'img030-00246.png', 'img033-00064.png', 'img030-00252.png', 'img029-00331.png', 'img011-00045.png', 'img034-00028.png', 'img011-00051.png', 'img030-00285.png', 'img011-00079.png', 'img034-00014.png', 'img030-00291.png', 'img011-00284.png', 'img030-00078.png', 'img011-00290.png', 'img021-00063.png', 'img030-00044.png', 'img017-00136.png', 'img029-00133.png', 'img030-00050.png', 'img011-00521.png', 'img011-00247.png', 'img011-00253.png', 'img021-00088.png', 'img011-00535.png', 'img030-00087.png', 'img009-00031.png', 'img030-00093.png', 'img011-00509.png', 'img018-00002.png', 'img030-00092.png', 'img011-00508.png', 'img030-00086.png', 'img011-00252.png', 'img011-00534.png', 'img021-00089.png', 'img011-00520.png', 'img011-00246.png', 'img030-00051.png', 'img029-00132.png', 'img030-00045.png', 'img011-00291.png', 'img004-00027.png', 'img015-00014.png', 'img030-00079.png', 'img011-00285.png', 'img019-00128.png', 'img030-00290.png', 'img011-00078.png', 'img030-00284.png', 'img034-00015.png', 'img011-00050.png', 'img011-00044.png', 'img033-00065.png', 'img028-00019.png', 'img029-00330.png', 'img030-00253.png', 'img030-00247.png', 'img029-00324.png', 'img011-00093.png', 'img029-00318.png', 'img011-00087.png', 'img013-00198.png', 'img011-00118.png', 'img029-00287.png', 'img029-00293.png', 'img019-00048.png', 'img011-00124.png', 'img008-00047.png', 'img011-00130.png', 'img024-00253.png', 'img029-00244.png', 'img029-00250.png', '1-14.png', 'img029-00278.png', 'img031-00026.png', 'img029-00085.png', 'img010-00033.png', 'img018-00177.png', 'img011-00468.png', 'img018-00163.png', 'img010-00027.png', 'img011-00326.png', 'img035-00062.png', 'img011-00440.png', 'img011-00454.png', 'img025-00378.png', 'img011-00332.png', 'img030-00125.png', 'img029-00046.png', '1-3.png', 'img015-00148.png', 'img006-00064.png', 'img029-00052.png', 'img030-00131.png', 'img030-00119.png', 'img018-00188.png', 'img011-00483.png', 'img011-00497.png', 'img024-00092.png', 'img030-00135.png', 'img029-00056.png', 'img029-00042.png', '1-7.png', 'img017-00053.png', 'img030-00121.png', 'img023-00019.png', 'img028-00343.png', 'img030-00109.png', 'img011-00493.png', 'img011-00487.png', 'img006-00048.png', 'img010-00023.png', 'img011-00478.png', 'img029-00081.png', 'img011-00336.png', 'img011-00450.png', 'img011-00444.png', 'img011-00322.png', 'img020-00039.png', 'img029-00254.png', 'img022-00126.png', 'img029-00240.png', 'img029-00268.png', 'img024-00294.png', '1-10.png', 'img029-00297.png', 'img011-00108.png', 'img025-00156.png', 'img029-00283.png', 'img028-00182.png', 'img011-00134.png', 'img011-00120.png', 'img029-00320.png', 'img028-00009.png', 'img030-00243.png', 'img030-00257.png', 'img029-00334.png', 'img007-00003.png', 'img011-00083.png', 'img011-00097.png', 'img029-00308.png', 'img034-00011.png', 'img030-00280.png', 'img011-00068.png', 'img030-00294.png', 'img011-00040.png', 'img011-00054.png', 'img030-00041.png', 'img015-00038.png', 'img029-00136.png', 'img030-00055.png', 'img011-00281.png', 'img023-00145.png', 'img015-00004.png', 'img030-00069.png', 'img011-00295.png', 'img025-00234.png', 'img030-00082.png', 'img011-00518.png', 'img026-00002.png', 'img030-00096.png', 'img011-00242.png', 'img011-00524.png', 'img011-00530.png', 'img011-00256.png', 'img011-00531.png', 'img011-00257.png', 'img011-00243.png', 'img009-00009.png', 'img011-00525.png', 'img018-00006.png', 'img026-00017.png', 'img030-00097.png', 'img030-00083.png', 'img025-00235.png', 'img026-00003.png', 'img011-00519.png', 'img015-00005.png', 'img011-00294.png', 'img030-00068.png', 'img004-00036.png', 'img011-00280.png', 'img015-00011.png', 'img015-00039.png', 'img021-00073.png', 'img030-00054.png', 'img029-00137.png', 'img017-00132.png', 'img030-00040.png', 'img021-00067.png', 'img011-00055.png', 'img011-00041.png', 'img030-00295.png', 'img011-00069.png', 'img030-00281.png', 'img016-00031.png', 'img029-00309.png', 'img011-00096.png', 'img028-00020.png', 'img033-00048.png', 'img007-00002.png', 'img028-00034.png', 'img011-00082.png', 'img029-00335.png', 'img030-00256.png', 'img022-00053.png', 'img030-00242.png', 'img029-00321.png', 'img011-00121.png', 'img008-00042.png', 'img011-00135.png', 'img029-00282.png', 'img013-00002.png', 'img019-00059.png', 'img011-00109.png', 'img029-00296.png', 'img031-00037.png', '1-11.png', 'img024-00295.png', 'img029-00269.png', 'img029-00241.png', 'img005-00041.png', 'img014-00072.png', 'img029-00255.png', 'img011-00445.png', 'img011-00323.png', 'img011-00337.png', 'img011-00451.png', 'img011-00479.png', 'img029-00080.png', 'img017-00091.png', 'img010-00022.png', 'img011-00486.png', 'img030-00108.png', 'img028-00342.png', 'img024-00097.png', 'img011-00492.png', 'img023-00018.png', 'img030-00120.png', 'img017-00052.png', '1-6.png', 'img029-00043.png', 'img029-00057.png', 'img030-00134.png', 'img017-00046.png', 'img006-00061.png', 'img029-00041.png', '1-4.png', 'img030-00122.png', 'img006-00063.png', 'img030-00136.png', 'img025-00380.png', 'img029-00055.png', 'img011-00484.png', 'img032-00001.png', 'img011-00490.png', 'img024-00095.png', 'img028-00340.png', 'img029-00069.png', 'img029-00082.png', 'img010-00034.png', 'img035-00059.png', 'img010-00020.png', 'img011-00309.png', 'img017-00087.png', 'img011-00321.png', 'img010-00008.png', 'img011-00447.png', 'img011-00453.png', 'img011-00335.png', 'img019-00098.png', 'img029-00243.png', 'img029-00257.png', '1-13.png', 'img030-00308.png', 'img029-00280.png', 'img029-00294.png', 'img019-00067.png', 'img008-00040.png', 'img011-00123.png', 'img011-00137.png', 'img028-00181.png', 'img033-00062.png', 'img030-00254.png', 'img029-00337.png', 'img029-00323.png', 'img030-00240.png', 'img011-00094.png', 'img016-00033.png', 'img030-00268.png', 'img011-00080.png', 'img030-00297.png', 'img030-00283.png', 'img011-00057.png', 'img011-00043.png', 'img029-00135.png', 'img030-00056.png', 'img030-00042.png', 'img004-00008.png', 'img004-00020.png', 'img011-00296.png', 'img028-00220.png', 'img011-00282.png', 'img023-00146.png', 'img030-00095.png', 'img011-00269.png', 'img018-00004.png', 'img026-00001.png', 'img030-00081.png', 'img011-00255.png', 'img011-00533.png', 'img011-00527.png', 'img011-00241.png', 'img011-00526.png', 'img011-00240.png', 'img011-00254.png', 'img011-00532.png', 'img018-00011.png', 'img030-00080.png', 'img025-00236.png', 'img011-00268.png', 'img030-00094.png', 'img021-00058.png', 'img023-00147.png', 'img011-00283.png', 'img011-00297.png', 'img029-00120.png', 'img004-00009.png', 'img030-00043.png', 'img030-00057.png', 'img029-00134.png', 'img011-00042.png', 'img011-00056.png', 'img030-00282.png', 'img034-00013.png', 'img030-00296.png', 'img011-00081.png', 'img007-00001.png', 'img030-00269.png', 'img011-00095.png', 'img030-00241.png', 'img029-00322.png', 'img033-00063.png', 'img029-00336.png', 'img030-00255.png', 'img011-00136.png', 'img011-00122.png', 'img025-00168.png', 'img008-00041.png', 'img029-00295.png', 'img013-00015.png', 'img013-00001.png', 'img029-00281.png', 'img024-00296.png', 'img030-00309.png', '1-12.png', 'img022-00124.png', 'img029-00256.png', 'img029-00242.png', 'img011-00452.png', 'img011-00334.png', 'img024-00043.png', 'img010-00009.png', 'img011-00320.png', 'img011-00446.png', 'img035-00064.png', 'img011-00308.png', 'img010-00021.png', 'img029-00083.png', 'img017-00092.png', 'img011-00491.png', 'img029-00068.png', 'img024-00094.png', 'img011-00485.png', 'img006-00062.png', 'img029-00054.png', 'img030-00137.png', 'img030-00123.png', '1-5.png', 'img029-00040.png']\n"
     ]
    }
   ],
   "source": [
    "print(files)"
   ]
  },
  {
   "cell_type": "code",
   "execution_count": 18,
   "metadata": {},
   "outputs": [
    {
     "name": "stdout",
     "output_type": "stream",
     "text": [
      "[[[81.061 64.221 71.32 ]\n",
      "  [81.061 65.221 67.32 ]\n",
      "  [84.061 70.221 71.32 ]\n",
      "  ...\n",
      "  [68.061 55.221 58.32 ]\n",
      "  [65.061 51.221 52.32 ]\n",
      "  [48.061 35.221 38.32 ]]\n",
      "\n",
      " [[79.061 63.221 67.32 ]\n",
      "  [80.061 65.221 71.32 ]\n",
      "  [77.061 68.221 72.32 ]\n",
      "  ...\n",
      "  [66.061 53.221 56.32 ]\n",
      "  [68.061 52.221 54.32 ]\n",
      "  [61.061 47.221 48.32 ]]\n",
      "\n",
      " [[83.061 66.221 73.32 ]\n",
      "  [74.061 68.221 71.32 ]\n",
      "  [80.061 66.221 73.32 ]\n",
      "  ...\n",
      "  [67.061 52.221 56.32 ]\n",
      "  [69.061 53.221 57.32 ]\n",
      "  [71.061 56.221 60.32 ]]\n",
      "\n",
      " ...\n",
      "\n",
      " [[88.061 66.221 80.32 ]\n",
      "  [83.061 70.221 75.32 ]\n",
      "  [84.061 69.221 75.32 ]\n",
      "  ...\n",
      "  [70.061 56.221 57.32 ]\n",
      "  [72.061 59.221 64.32 ]\n",
      "  [74.061 61.221 66.32 ]]\n",
      "\n",
      " [[80.061 70.221 78.32 ]\n",
      "  [81.061 70.221 75.32 ]\n",
      "  [85.061 72.221 77.32 ]\n",
      "  ...\n",
      "  [73.061 59.221 60.32 ]\n",
      "  [71.061 58.221 63.32 ]\n",
      "  [74.061 61.221 66.32 ]]\n",
      "\n",
      " [[87.061 72.221 78.32 ]\n",
      "  [83.061 70.221 75.32 ]\n",
      "  [85.061 70.221 76.32 ]\n",
      "  ...\n",
      "  [73.061 58.221 62.32 ]\n",
      "  [72.061 59.221 64.32 ]\n",
      "  [78.061 65.221 70.32 ]]]\n"
     ]
    }
   ],
   "source": [
    "print(read_image(imagesPath+\"img017-00077.png\"))"
   ]
  },
  {
   "cell_type": "code",
   "execution_count": null,
   "metadata": {},
   "outputs": [],
   "source": []
  },
  {
   "cell_type": "markdown",
   "metadata": {},
   "source": [
    "Here total images i have = 1969 and choosing a sample of 1200 images to train"
   ]
  },
  {
   "cell_type": "raw",
   "metadata": {},
   "source": [
    "# define target value for each image. Since we do not have target .csv file, we use this format to create target labels."
   ]
  },
  {
   "cell_type": "code",
   "execution_count": 30,
   "metadata": {},
   "outputs": [
    {
     "name": "stdout",
     "output_type": "stream",
     "text": [
      "Reading train images ...\n",
      "Read 0 images\n",
      "Read 5 images\n",
      "Read 10 images\n",
      "Read 15 images\n",
      "Read 20 images\n",
      "Read 25 images\n",
      "Read 30 images\n",
      "Read 35 images\n",
      "Read 40 images\n",
      "Read 45 images\n",
      "Read 50 images\n",
      "Read 55 images\n",
      "Read 60 images\n",
      "Read 65 images\n",
      "Read 70 images\n",
      "Read 75 images\n",
      "Read 80 images\n",
      "Read 85 images\n",
      "Read 90 images\n",
      "Read 95 images\n",
      "Read 100 images\n",
      "Read 105 images\n",
      "Read 110 images\n",
      "Read 115 images\n",
      "Read 120 images\n",
      "Read 125 images\n",
      "Read 130 images\n",
      "Read 135 images\n",
      "Read 140 images\n",
      "Read 145 images\n",
      "Read 150 images\n",
      "Read 155 images\n",
      "Read 160 images\n",
      "Read 165 images\n",
      "Read 170 images\n",
      "Read 175 images\n",
      "Read 180 images\n",
      "Read 185 images\n",
      "Read 190 images\n",
      "Read 195 images\n",
      "Read 200 images\n",
      "Read 205 images\n",
      "Read 210 images\n",
      "Read 215 images\n",
      "Read 220 images\n",
      "Read 225 images\n",
      "Read 230 images\n",
      "Read 235 images\n",
      "Read 240 images\n",
      "Read 245 images\n",
      "Read 250 images\n",
      "Read 255 images\n",
      "Read 260 images\n",
      "Read 265 images\n",
      "Read 270 images\n",
      "Read 275 images\n",
      "Read 280 images\n",
      "Found DS Store\n",
      "Read 285 images\n",
      "Read 290 images\n",
      "Read 295 images\n",
      "Read 300 images\n",
      "Read 305 images\n",
      "Read 310 images\n",
      "Read 315 images\n",
      "Read 320 images\n",
      "Read 325 images\n",
      "Read 330 images\n",
      "Read 335 images\n",
      "Read 340 images\n",
      "Read 345 images\n",
      "Read 350 images\n",
      "Read 355 images\n",
      "Read 360 images\n",
      "Read 365 images\n",
      "Read 370 images\n",
      "Read 375 images\n",
      "Read 380 images\n",
      "Read 385 images\n",
      "Read 390 images\n",
      "Read 395 images\n",
      "Read 400 images\n",
      "Read 405 images\n",
      "Read 410 images\n",
      "Read 415 images\n",
      "Read 420 images\n",
      "Read 425 images\n",
      "Read 430 images\n",
      "Read 435 images\n",
      "Read 440 images\n",
      "Read 445 images\n",
      "Read 450 images\n",
      "Read 455 images\n",
      "Read 460 images\n",
      "Read 465 images\n",
      "Read 470 images\n",
      "Read 475 images\n",
      "Read 480 images\n",
      "Read 485 images\n",
      "Read 490 images\n",
      "Read 495 images\n",
      "Read 500 images\n",
      "Read 505 images\n",
      "Read 510 images\n",
      "Read 515 images\n",
      "Read 520 images\n",
      "Read 525 images\n",
      "Read 530 images\n",
      "Read 535 images\n",
      "Read 540 images\n",
      "Read 545 images\n",
      "Read 550 images\n",
      "Read 555 images\n",
      "Read 560 images\n",
      "Read 565 images\n",
      "Read 570 images\n",
      "Read 575 images\n",
      "Read 580 images\n",
      "Read 585 images\n",
      "Read 590 images\n",
      "Read 595 images\n",
      "Read 600 images\n",
      "Read 605 images\n",
      "Read 610 images\n",
      "Read 615 images\n",
      "Read 620 images\n",
      "Read 625 images\n",
      "Read 630 images\n",
      "Read 635 images\n",
      "Read 640 images\n",
      "Read 645 images\n",
      "Read 650 images\n",
      "Read 655 images\n",
      "Read 660 images\n",
      "Read 665 images\n",
      "Read 670 images\n",
      "Read 675 images\n",
      "Read 680 images\n",
      "Read 685 images\n",
      "Read 690 images\n",
      "Read 695 images\n",
      "Read 700 images\n",
      "Read 705 images\n",
      "Read 710 images\n",
      "Read 715 images\n",
      "Read 720 images\n",
      "Read 725 images\n",
      "Read 730 images\n",
      "Read 735 images\n",
      "Read 740 images\n",
      "Read 745 images\n",
      "Read 750 images\n",
      "Read 755 images\n",
      "Read 760 images\n",
      "Read 765 images\n",
      "Read 770 images\n",
      "Read 775 images\n",
      "Read 780 images\n",
      "Read 785 images\n",
      "Read 790 images\n",
      "Read 795 images\n",
      "Read 800 images\n",
      "Read 805 images\n",
      "Read 810 images\n",
      "Read 815 images\n",
      "Read 820 images\n",
      "Read 825 images\n",
      "Read 830 images\n",
      "Read 835 images\n",
      "Read 840 images\n",
      "Read 845 images\n",
      "Read 850 images\n",
      "Read 855 images\n",
      "Read 860 images\n",
      "Read 865 images\n",
      "Read 870 images\n",
      "Read 875 images\n",
      "Read 880 images\n",
      "Read 885 images\n",
      "Read 890 images\n",
      "Read 895 images\n",
      "Read 900 images\n",
      "Read 905 images\n",
      "Read 910 images\n",
      "Read 915 images\n",
      "Read 920 images\n",
      "Read 925 images\n",
      "Read 930 images\n",
      "Read 935 images\n",
      "Read 940 images\n",
      "Read 945 images\n",
      "Read 950 images\n",
      "Read 955 images\n",
      "Read 960 images\n",
      "Read 965 images\n",
      "Read 970 images\n",
      "Read 975 images\n",
      "Read 980 images\n",
      "Read 985 images\n",
      "Read 990 images\n",
      "Read 995 images\n",
      "Read 1000 images\n",
      "Read 1005 images\n",
      "Read 1010 images\n",
      "Read 1015 images\n",
      "Read 1020 images\n",
      "Read 1025 images\n",
      "Read 1030 images\n",
      "Read 1035 images\n",
      "Read 1040 images\n",
      "Read 1045 images\n",
      "Read 1050 images\n",
      "Read 1055 images\n",
      "Read 1060 images\n",
      "Read 1065 images\n",
      "Read 1070 images\n",
      "Read 1075 images\n",
      "Read 1080 images\n",
      "Read 1085 images\n",
      "Read 1090 images\n",
      "Read 1095 images\n",
      "Read 1100 images\n",
      "Read 1105 images\n",
      "Read 1110 images\n",
      "Read 1115 images\n",
      "Read 1120 images\n",
      "Read 1125 images\n",
      "Read 1130 images\n",
      "Read 1135 images\n",
      "Read 1140 images\n",
      "Read 1145 images\n",
      "Read 1150 images\n",
      "Read 1155 images\n",
      "Read 1160 images\n",
      "Read 1165 images\n",
      "Read 1170 images\n",
      "Read 1175 images\n",
      "Read 1180 images\n",
      "Read 1185 images\n",
      "Read 1190 images\n",
      "Read 1195 images\n",
      "Read 1200 images\n",
      "Read 1205 images\n",
      "Read 1210 images\n",
      "Read 1215 images\n",
      "Read 1220 images\n",
      "Read 1225 images\n",
      "Read 1230 images\n",
      "Read 1235 images\n",
      "Read 1240 images\n",
      "Read 1245 images\n",
      "Read 1250 images\n",
      "Read 1255 images\n",
      "Read 1260 images\n",
      "Read 1265 images\n",
      "Read 1270 images\n",
      "Read 1275 images\n",
      "Read 1280 images\n",
      "Read 1285 images\n",
      "Read 1290 images\n",
      "Read 1295 images\n",
      "Read 1300 images\n",
      "Read 1305 images\n",
      "Read 1310 images\n",
      "Read 1315 images\n",
      "Read 1320 images\n",
      "Read 1325 images\n",
      "Read 1330 images\n",
      "Read 1335 images\n",
      "Read 1340 images\n",
      "Read 1345 images\n",
      "Read 1350 images\n",
      "Read 1355 images\n",
      "Read 1360 images\n",
      "Read 1365 images\n",
      "Read 1370 images\n",
      "Read 1375 images\n",
      "Read 1380 images\n",
      "Read 1385 images\n",
      "Read 1390 images\n",
      "Read 1395 images\n",
      "Read 1400 images\n",
      "Read 1405 images\n",
      "Read 1410 images\n",
      "Read 1415 images\n",
      "Read 1420 images\n",
      "Read 1425 images\n",
      "Read 1430 images\n",
      "Read 1435 images\n",
      "Read 1440 images\n",
      "Read 1445 images\n",
      "Read 1450 images\n",
      "Read 1455 images\n",
      "Read 1460 images\n",
      "Read 1465 images\n",
      "Read 1470 images\n",
      "Read 1475 images\n",
      "Read 1480 images\n",
      "Read 1485 images\n",
      "Read 1490 images\n",
      "Read 1495 images\n",
      "Read 1500 images\n",
      "Read 1505 images\n",
      "Read 1510 images\n",
      "Read 1515 images\n",
      "Read 1520 images\n",
      "Read 1525 images\n",
      "Read 1530 images\n",
      "Read 1535 images\n",
      "Read 1540 images\n",
      "Read 1545 images\n",
      "Read 1550 images\n",
      "Read 1555 images\n",
      "Read 1560 images\n",
      "Read 1565 images\n",
      "Read 1570 images\n",
      "Read 1575 images\n",
      "Read 1580 images\n",
      "Read 1585 images\n",
      "Read 1590 images\n",
      "Read 1595 images\n",
      "Read 1600 images\n",
      "Read 1605 images\n",
      "Read 1610 images\n",
      "Read 1615 images\n",
      "Read 1620 images\n",
      "Read 1625 images\n",
      "Read 1630 images\n",
      "Read 1635 images\n",
      "Read 1640 images\n",
      "Read 1645 images\n",
      "Read 1650 images\n",
      "Read 1655 images\n",
      "Read 1660 images\n",
      "Read 1665 images\n",
      "Read 1670 images\n",
      "Read 1675 images\n",
      "Read 1680 images\n",
      "Read 1685 images\n",
      "Read 1690 images\n",
      "Read 1695 images\n",
      "Read 1700 images\n",
      "Read 1705 images\n",
      "Read 1710 images\n",
      "Read 1715 images\n",
      "Read 1720 images\n",
      "Read 1725 images\n",
      "Read 1730 images\n",
      "Read 1735 images\n",
      "Read 1740 images\n",
      "Read 1745 images\n",
      "Read 1750 images\n",
      "Read 1755 images\n",
      "Read 1760 images\n",
      "Read 1765 images\n",
      "Read 1770 images\n",
      "Read 1775 images\n",
      "Read 1780 images\n",
      "Read 1785 images\n",
      "Read 1790 images\n",
      "Read 1795 images\n",
      "Read 1800 images\n",
      "Read 1805 images\n",
      "Read 1810 images\n",
      "Read 1815 images\n",
      "Read 1820 images\n",
      "Read 1825 images\n",
      "Read 1830 images\n",
      "Read 1835 images\n",
      "Read 1840 images\n",
      "Read 1845 images\n",
      "Read 1850 images\n",
      "Read 1855 images\n",
      "Read 1860 images\n",
      "Read 1865 images\n",
      "Read 1870 images\n",
      "Read 1875 images\n",
      "Read 1880 images\n",
      "Read 1885 images\n",
      "Read 1890 images\n",
      "Read 1895 images\n",
      "Read 1900 images\n",
      "Read 1905 images\n",
      "Read 1910 images\n",
      "Read 1915 images\n",
      "Read 1920 images\n",
      "Read 1925 images\n",
      "Read 1930 images\n",
      "Read 1935 images\n",
      "Read 1940 images\n",
      "Read 1945 images\n",
      "Read 1950 images\n",
      "Read 1955 images\n",
      "Read 1960 images\n",
      "Read 1965 images\n",
      "Done reading all images\n"
     ]
    }
   ],
   "source": [
    "i=0\n",
    "input_data = []\n",
    "output_data = []\n",
    "print('Reading train images ...')\n",
    "\n",
    "for file in img_files:\n",
    "    if(i%5==0):\n",
    "        print('Read {} images'.format(i))\n",
    "    if file == '.DS_Store':\n",
    "        print('Found DS Store')\n",
    "        continue\n",
    "    im = read_image(imagesPath+file)\n",
    "    input_data.append(im)\n",
    "    if file.startswith('0-'):\n",
    "        output_data.append(0)\n",
    "    elif file.startswith('1-'):\n",
    "        output_data.append(1)\n",
    "    elif file.startswith('2-'):\n",
    "        output_data.append(2)\n",
    "    elif file.startswith('img004-'):\n",
    "        output_data.append(3)    \n",
    "    elif file.startswith('img005-'):\n",
    "        output_data.append(4)    \n",
    "    elif file.startswith('img006-'):\n",
    "        output_data.append(5)    \n",
    "    elif file.startswith('img007-'):\n",
    "        output_data.append(6)    \n",
    "    elif file.startswith('img008-'):\n",
    "        output_data.append(7)    \n",
    "    elif file.startswith('img009-'):\n",
    "        output_data.append(8)    \n",
    "    elif file.startswith('img010-'):\n",
    "        output_data.append(9)    \n",
    "    elif file.startswith('img011-'):\n",
    "        output_data.append(10)    \n",
    "    elif file.startswith('img012-'):\n",
    "        output_data.append(11)    \n",
    "    elif file.startswith('img013-'):\n",
    "        output_data.append(12)    \n",
    "    elif file.startswith('img014-'):\n",
    "        output_data.append(13)    \n",
    "    elif file.startswith('img015-'):\n",
    "        output_data.append(14)    \n",
    "    elif file.startswith('img016-'):\n",
    "        output_data.append(15)    \n",
    "    elif file.startswith('img017-'):\n",
    "        output_data.append(16)    \n",
    "    elif file.startswith('img018-'):\n",
    "        output_data.append(17)    \n",
    "    elif file.startswith('img019-'):\n",
    "        output_data.append(18)    \n",
    "    elif file.startswith('img020-'):\n",
    "        output_data.append(19) \n",
    "    elif file.startswith('img021-'):\n",
    "        output_data.append(20) \n",
    "    elif file.startswith('img022-'):\n",
    "        output_data.append(21) \n",
    "    elif file.startswith('img023-'):\n",
    "        output_data.append(22) \n",
    "    elif file.startswith('img024-'):\n",
    "        output_data.append(23) \n",
    "    elif file.startswith('img025-'):\n",
    "        output_data.append(24) \n",
    "    elif file.startswith('img026-'):\n",
    "        output_data.append(25) \n",
    "    elif file.startswith('img027-'):\n",
    "        output_data.append(26) \n",
    "    elif file.startswith('img028-'):\n",
    "        output_data.append(27) \n",
    "    elif file.startswith('img029-'):\n",
    "        output_data.append(28) \n",
    "    elif file.startswith('img030-'):\n",
    "        output_data.append(29) \n",
    "    elif file.startswith('img031-'):\n",
    "        output_data.append(30) \n",
    "    elif file.startswith('img032-'):\n",
    "        output_data.append(31) \n",
    "    elif file.startswith('img033-'):\n",
    "        output_data.append(32) \n",
    "    elif file.startswith('img034-'):\n",
    "        output_data.append(33)\n",
    "    elif file.startswith('img035-'):\n",
    "        output_data.append(34) \n",
    "    elif file.startswith('img036-'):\n",
    "        output_data.append(35)         \n",
    "    i+=1\n",
    "\n",
    "print(\"Done reading all images\")"
   ]
  },
  {
   "cell_type": "code",
   "execution_count": 36,
   "metadata": {},
   "outputs": [
    {
     "name": "stdout",
     "output_type": "stream",
     "text": [
      "(1968, 28, 28, 3)\n",
      "22\n"
     ]
    }
   ],
   "source": [
    "all_data = np.array(input_data)\n",
    "target_allData = np.array(output_data)\n",
    "print(all_data.shape)\n",
    "print(target_allData.shape)"
   ]
  },
  {
   "cell_type": "code",
   "execution_count": 40,
   "metadata": {},
   "outputs": [
    {
     "name": "stdout",
     "output_type": "stream",
     "text": [
      "[[[ 38.061  34.221  42.32 ]\n",
      "  [ 40.061  34.221  43.32 ]\n",
      "  [ 40.061  35.221  41.32 ]\n",
      "  ...\n",
      "  [ 47.061  33.221  40.32 ]\n",
      "  [ 48.061  37.221  43.32 ]\n",
      "  [ 43.061  34.221  39.32 ]]\n",
      "\n",
      " [[ 43.061  29.221  36.32 ]\n",
      "  [ 41.061  31.221  39.32 ]\n",
      "  [ 41.061  34.221  41.32 ]\n",
      "  ...\n",
      "  [ 47.061  40.221  49.32 ]\n",
      "  [ 47.061  40.221  49.32 ]\n",
      "  [ 43.061  36.221  43.32 ]]\n",
      "\n",
      " [[ 48.061  37.221  45.32 ]\n",
      "  [ 49.061  35.221  44.32 ]\n",
      "  [ 49.061  35.221  44.32 ]\n",
      "  ...\n",
      "  [ 51.061  37.221  46.32 ]\n",
      "  [ 52.061  38.221  47.32 ]\n",
      "  [ 52.061  38.221  45.32 ]]\n",
      "\n",
      " ...\n",
      "\n",
      " [[-63.939 -62.779 -24.68 ]\n",
      "  [-61.939 -64.779 -36.68 ]\n",
      "  [-49.939 -61.779 -47.68 ]\n",
      "  ...\n",
      "  [ 45.061  36.221  41.32 ]\n",
      "  [ 41.061  32.221  36.32 ]\n",
      "  [ 39.061  28.221  33.32 ]]\n",
      "\n",
      " [[ 38.061  31.221  36.32 ]\n",
      "  [ 40.061  33.221  42.32 ]\n",
      "  [ 39.061  32.221  41.32 ]\n",
      "  ...\n",
      "  [ 43.061  34.221  38.32 ]\n",
      "  [ 45.061  34.221  39.32 ]\n",
      "  [ 47.061  36.221  41.32 ]]\n",
      "\n",
      " [[ 41.061  32.221  36.32 ]\n",
      "  [ 41.061  34.221  39.32 ]\n",
      "  [ 45.061  38.221  45.32 ]\n",
      "  ...\n",
      "  [ 49.061  39.221  41.32 ]\n",
      "  [ 48.061  39.221  41.32 ]\n",
      "  [ 43.061  37.221  40.32 ]]]\n"
     ]
    }
   ],
   "source": [
    "print(all_data[0])"
   ]
  },
  {
   "cell_type": "code",
   "execution_count": 31,
   "metadata": {},
   "outputs": [],
   "source": [
    "## save this to npz file\n",
    "os.chdir('/Users/sandeepn/Desktop/NumberPlateRec/DigitRecog/')\n",
    "np.savez_compressed('npz_all_1965_Images_nparray', data=all_data, labels=target_allData)"
   ]
  },
  {
   "cell_type": "markdown",
   "metadata": {},
   "source": [
    "# Split data into Train and Validation 80-20"
   ]
  },
  {
   "cell_type": "code",
   "execution_count": 49,
   "metadata": {},
   "outputs": [
    {
     "name": "stderr",
     "output_type": "stream",
     "text": [
      "/usr/local/lib/python2.7/site-packages/sklearn/model_selection/_split.py:2026: FutureWarning: From version 0.21, test_size will always complement train_size unless both are specified.\n",
      "  FutureWarning)\n"
     ]
    }
   ],
   "source": [
    "from sklearn.model_selection import train_test_split\n",
    "RANDOM_SEED = 42\n",
    "x_train, x_validation, y_train, y_validation = train_test_split(all_data, target_allData, train_size=0.8)"
   ]
  },
  {
   "cell_type": "code",
   "execution_count": 50,
   "metadata": {},
   "outputs": [
    {
     "name": "stdout",
     "output_type": "stream",
     "text": [
      "('train_data:', (1574, 28, 28, 3))\n",
      "('train_labels:', (1574,))\n",
      "('test_data:', (394, 28, 28, 3))\n",
      "('test_labels:', (394,))\n"
     ]
    }
   ],
   "source": [
    "print('train_data:', x_train.shape)\n",
    "print('train_labels:', y_train.shape)\n",
    "print('test_data:', x_validation.shape)\n",
    "print('test_labels:', y_validation.shape)"
   ]
  },
  {
   "cell_type": "raw",
   "metadata": {},
   "source": [
    "Plot Single Image"
   ]
  },
  {
   "cell_type": "code",
   "execution_count": 51,
   "metadata": {},
   "outputs": [
    {
     "data": {
      "text/plain": [
       "<matplotlib.image.AxesImage at 0x11ef5eb90>"
      ]
     },
     "execution_count": 51,
     "metadata": {},
     "output_type": "execute_result"
    },
    {
     "data": {
      "image/png": "[encoded data removed]",
      "text/plain": [
       "<Figure size 2016x2016 with 1 Axes>"
      ]
     },
     "metadata": {},
     "output_type": "display_data"
    }
   ],
   "source": [
    "import matplotlib.pyplot as plt\n",
    "%matplotlib inline\n",
    "plt.figure(figsize=(size,size))\n",
    "plt.subplot(3,3,1)\n",
    "plt.imshow(x_train[9])\n",
    "# plt.subplot(3,3,2)\n",
    "# plt.imshow(x_train[100])\n",
    "# plt.subplot(3,3,3)\n",
    "# plt.imshow(x_train[30])"
   ]
  },
  {
   "cell_type": "markdown",
   "metadata": {},
   "source": [
    "# - Tuning Parameters"
   ]
  },
  {
   "cell_type": "code",
   "execution_count": 54,
   "metadata": {},
   "outputs": [],
   "source": [
    "batch_size = 32\n",
    "nb_classes = 36\n",
    "number_of_epochs = 50\n",
    "\n",
    "img_rows, img_cols = size, size  # input image dimensions\n",
    "img_channels = 3  \n",
    "kernalSize = (3, 3)\n",
    "poolingSize = (2, 2)\n",
    "dropoutValue = 0.2\n",
    "\n",
    "activationType = \"relu\"\n",
    "outputActivation = \"softmax\"\n"
   ]
  },
  {
   "cell_type": "markdown",
   "metadata": {},
   "source": [
    "# Convert class vectors to binary class matrices."
   ]
  },
  {
   "cell_type": "code",
   "execution_count": 55,
   "metadata": {},
   "outputs": [
    {
     "name": "stdout",
     "output_type": "stream",
     "text": [
      "[0. 0. 0. 1. 0. 0. 0. 0. 0. 0. 0. 0. 0. 0. 0. 0. 0. 0. 0. 0. 0. 0. 0. 0.\n",
      " 0. 0. 0. 0. 0. 0. 0. 0. 0. 0. 0. 0.]\n",
      "(394, 36)\n"
     ]
    }
   ],
   "source": [
    "from keras.utils import to_categorical\n",
    "y_train_labels = to_categorical(y_train, nb_classes)\n",
    "y_test_labels = to_categorical(y_validation, nb_classes)\n",
    "\n",
    "print(y_train_labels[0])\n",
    "print(y_test_labels.shape)"
   ]
  },
  {
   "cell_type": "code",
   "execution_count": 56,
   "metadata": {},
   "outputs": [],
   "source": [
    "from keras.models import Sequential\n",
    "from keras.layers import Dense, Dropout, Flatten\n",
    "from keras.layers import Convolution2D, MaxPooling2D"
   ]
  },
  {
   "cell_type": "markdown",
   "metadata": {},
   "source": [
    "# ` Create Sequential Model\n",
    "filters(eg: 32): Number of convolution filters to use.\n",
    "img_rows: Number of rows in the convolution kernel.\n",
    "img_cols: Number of columns in the convolution kernel.\n"
   ]
  },
  {
   "cell_type": "code",
   "execution_count": 57,
   "metadata": {},
   "outputs": [],
   "source": [
    "model = Sequential()\n",
    "model.add(Convolution2D(filters=32, kernel_size=kernalSize, padding='same', \n",
    "                        input_shape=(img_rows,img_cols,img_channels), \n",
    "                        activation='relu'))\n",
    "model.add(Convolution2D(filters=32, kernel_size=kernalSize, activation='relu'))\n",
    "model.add(MaxPooling2D(pool_size=poolingSize))\n",
    "model.add(Dropout(dropoutValue))\n",
    "\n",
    "model.add(Convolution2D(filters=64, kernel_size=kernalSize, padding='same', activation='relu'))\n",
    "model.add(Convolution2D(filters=64, kernel_size=kernalSize, activation='relu'))\n",
    "model.add(MaxPooling2D(pool_size=poolingSize))\n",
    "model.add(Dropout(dropoutValue))\n",
    "\n",
    "model.add(Flatten())\n",
    "model.add(Dense(64, activation='relu'))\n",
    "model.add(Dropout(dropoutValue))\n",
    "model.add(Dense(256, activation='relu'))\n",
    "model.add(Dropout(dropoutValue))\n",
    "model.add(Dense(nb_classes, activation='softmax'))"
   ]
  },
  {
   "cell_type": "code",
   "execution_count": 58,
   "metadata": {},
   "outputs": [],
   "source": [
    "model.compile(loss='categorical_crossentropy',\n",
    "              optimizer='adam',\n",
    "              metrics=['accuracy'])"
   ]
  },
  {
   "cell_type": "code",
   "execution_count": 59,
   "metadata": {},
   "outputs": [],
   "source": [
    "os.chdir('/Users/sandeepn/Desktop/NumberPlateRec/DigitRecog/models')\n",
    "import keras\n",
    "callbacks_list = [\n",
    "    keras.callbacks.ModelCheckpoint(\n",
    "        filepath='best_model.textClassifier.{epoch:02d}-{val_loss:.2f}.h5',\n",
    "        monitor='val_loss', save_best_only=True),\n",
    "    keras.callbacks.EarlyStopping(monitor='acc', patience=1)\n",
    "]"
   ]
  },
  {
   "cell_type": "code",
   "execution_count": 60,
   "metadata": {},
   "outputs": [],
   "source": [
    "x_train = x_train.astype('float32')\n",
    "x_validation = x_validation.astype('float32')\n",
    "x_train /= 255\n",
    "x_validation /= 255"
   ]
  },
  {
   "cell_type": "code",
   "execution_count": 61,
   "metadata": {},
   "outputs": [],
   "source": [
    "os.chdir(folderPath)"
   ]
  },
  {
   "cell_type": "markdown",
   "metadata": {},
   "source": [
    "# Build Model"
   ]
  },
  {
   "cell_type": "code",
   "execution_count": null,
   "metadata": {},
   "outputs": [],
   "source": [
    "## Model with history saving\n",
    "model.fit(x_train, y_train_labels, batch_size=batch_size, epochs=number_of_epochs, callbacks=callbacks_list,\n",
    "            validation_data=(x_validation, y_test_labels), verbose=1)"
   ]
  },
  {
   "cell_type": "code",
   "execution_count": 62,
   "metadata": {},
   "outputs": [
    {
     "name": "stdout",
     "output_type": "stream",
     "text": [
      "Train on 1574 samples, validate on 394 samples\n",
      "Epoch 1/50\n",
      "1574/1574 [==============================] - 5s 3ms/step - loss: 2.8719 - acc: 0.2637 - val_loss: 2.9239 - val_acc: 0.2284\n",
      "Epoch 2/50\n",
      "1574/1574 [==============================] - 4s 3ms/step - loss: 2.6845 - acc: 0.2961 - val_loss: 2.8678 - val_acc: 0.2284\n",
      "Epoch 3/50\n",
      "1574/1574 [==============================] - 5s 3ms/step - loss: 2.6268 - acc: 0.3050 - val_loss: 2.8508 - val_acc: 0.3020\n",
      "Epoch 4/50\n",
      "1574/1574 [==============================] - 5s 3ms/step - loss: 2.1305 - acc: 0.5127 - val_loss: 1.9032 - val_acc: 0.5279\n",
      "Epoch 5/50\n",
      "1574/1574 [==============================] - 5s 3ms/step - loss: 1.5236 - acc: 0.6131 - val_loss: 1.5205 - val_acc: 0.5888\n",
      "Epoch 6/50\n",
      "1574/1574 [==============================] - 5s 3ms/step - loss: 1.1347 - acc: 0.6671 - val_loss: 1.0500 - val_acc: 0.6954\n",
      "Epoch 7/50\n",
      "1574/1574 [==============================] - 5s 3ms/step - loss: 0.9050 - acc: 0.7186 - val_loss: 0.7774 - val_acc: 0.7640\n",
      "Epoch 8/50\n",
      "1574/1574 [==============================] - 5s 3ms/step - loss: 0.7208 - acc: 0.7802 - val_loss: 0.6574 - val_acc: 0.8147\n",
      "Epoch 9/50\n",
      "1574/1574 [==============================] - 5s 3ms/step - loss: 0.6835 - acc: 0.8024 - val_loss: 0.5385 - val_acc: 0.8477\n",
      "Epoch 10/50\n",
      "1574/1574 [==============================] - 5s 3ms/step - loss: 0.5619 - acc: 0.8240 - val_loss: 0.5099 - val_acc: 0.8604\n",
      "Epoch 11/50\n",
      "1574/1574 [==============================] - 5s 3ms/step - loss: 0.4883 - acc: 0.8443 - val_loss: 0.4633 - val_acc: 0.8655\n",
      "Epoch 12/50\n",
      "1574/1574 [==============================] - 5s 3ms/step - loss: 0.4584 - acc: 0.8602 - val_loss: 0.4364 - val_acc: 0.8680\n",
      "Epoch 13/50\n",
      "1574/1574 [==============================] - 5s 3ms/step - loss: 0.3657 - acc: 0.8882 - val_loss: 0.3975 - val_acc: 0.8985\n",
      "Epoch 14/50\n",
      "1574/1574 [==============================] - 4s 3ms/step - loss: 0.3269 - acc: 0.8907 - val_loss: 0.3900 - val_acc: 0.8909\n",
      "Epoch 15/50\n",
      "1574/1574 [==============================] - 5s 3ms/step - loss: 0.3558 - acc: 0.8755 - val_loss: 0.4218 - val_acc: 0.8782\n",
      "Epoch 16/50\n",
      "1574/1574 [==============================] - 5s 3ms/step - loss: 0.2843 - acc: 0.9085 - val_loss: 0.3580 - val_acc: 0.8959\n",
      "Epoch 17/50\n",
      "1574/1574 [==============================] - 5s 3ms/step - loss: 0.2604 - acc: 0.9155 - val_loss: 0.3911 - val_acc: 0.8858\n",
      "Epoch 18/50\n",
      "1574/1574 [==============================] - 4s 3ms/step - loss: 0.2619 - acc: 0.9091 - val_loss: 0.3626 - val_acc: 0.9239\n",
      "Epoch 19/50\n",
      "1574/1574 [==============================] - 4s 3ms/step - loss: 0.2271 - acc: 0.9168 - val_loss: 0.3521 - val_acc: 0.9061\n",
      "Epoch 20/50\n",
      "1574/1574 [==============================] - 4s 3ms/step - loss: 0.1971 - acc: 0.9307 - val_loss: 0.3235 - val_acc: 0.9264\n",
      "Epoch 21/50\n",
      "1574/1574 [==============================] - 4s 3ms/step - loss: 0.2067 - acc: 0.9346 - val_loss: 0.2902 - val_acc: 0.9289\n",
      "Epoch 22/50\n",
      "1574/1574 [==============================] - 5s 3ms/step - loss: 0.1588 - acc: 0.9485 - val_loss: 0.4063 - val_acc: 0.9061\n",
      "Epoch 23/50\n",
      "1574/1574 [==============================] - 5s 3ms/step - loss: 0.1879 - acc: 0.9422 - val_loss: 0.2967 - val_acc: 0.9213\n",
      "Epoch 24/50\n",
      "1574/1574 [==============================] - 5s 3ms/step - loss: 0.1301 - acc: 0.9612 - val_loss: 0.3882 - val_acc: 0.9086\n",
      "Epoch 25/50\n",
      "1574/1574 [==============================] - 4s 3ms/step - loss: 0.1351 - acc: 0.9498 - val_loss: 0.3681 - val_acc: 0.9213\n",
      "Epoch 26/50\n",
      "1574/1574 [==============================] - 5s 3ms/step - loss: 0.1652 - acc: 0.9466 - val_loss: 0.3291 - val_acc: 0.9137\n",
      "Epoch 27/50\n",
      "1574/1574 [==============================] - 4s 3ms/step - loss: 0.1550 - acc: 0.9492 - val_loss: 0.3537 - val_acc: 0.9086\n",
      "Epoch 28/50\n",
      "1574/1574 [==============================] - 5s 3ms/step - loss: 0.1431 - acc: 0.9536 - val_loss: 0.3614 - val_acc: 0.9213\n",
      "Epoch 29/50\n",
      "1574/1574 [==============================] - 4s 3ms/step - loss: 0.1657 - acc: 0.9435 - val_loss: 0.3144 - val_acc: 0.9264\n",
      "Epoch 30/50\n",
      "1574/1574 [==============================] - 4s 3ms/step - loss: 0.1266 - acc: 0.9600 - val_loss: 0.3195 - val_acc: 0.9213\n",
      "Epoch 31/50\n",
      "1574/1574 [==============================] - 4s 3ms/step - loss: 0.1141 - acc: 0.9619 - val_loss: 0.4053 - val_acc: 0.9162\n",
      "Epoch 32/50\n",
      "1574/1574 [==============================] - 4s 3ms/step - loss: 0.1262 - acc: 0.9581 - val_loss: 0.3497 - val_acc: 0.9239\n",
      "Epoch 33/50\n",
      "1574/1574 [==============================] - 4s 3ms/step - loss: 0.0967 - acc: 0.9720 - val_loss: 0.3818 - val_acc: 0.9213\n",
      "Epoch 34/50\n",
      "1574/1574 [==============================] - 4s 3ms/step - loss: 0.1177 - acc: 0.9606 - val_loss: 0.3632 - val_acc: 0.9239\n",
      "Epoch 35/50\n",
      "1574/1574 [==============================] - 4s 3ms/step - loss: 0.1134 - acc: 0.9606 - val_loss: 0.3193 - val_acc: 0.9340\n",
      "Epoch 36/50\n",
      "1574/1574 [==============================] - 5s 3ms/step - loss: 0.1212 - acc: 0.9568 - val_loss: 0.3527 - val_acc: 0.9162\n",
      "Epoch 37/50\n",
      "1574/1574 [==============================] - 5s 3ms/step - loss: 0.1220 - acc: 0.9593 - val_loss: 0.3360 - val_acc: 0.9264\n",
      "Epoch 38/50\n",
      "1574/1574 [==============================] - 5s 3ms/step - loss: 0.0908 - acc: 0.9657 - val_loss: 0.3223 - val_acc: 0.9188\n",
      "Epoch 39/50\n",
      "1574/1574 [==============================] - 5s 3ms/step - loss: 0.1353 - acc: 0.9568 - val_loss: 0.3066 - val_acc: 0.9391\n",
      "Epoch 40/50\n",
      "1574/1574 [==============================] - 4s 3ms/step - loss: 0.1149 - acc: 0.9632 - val_loss: 0.3094 - val_acc: 0.9391\n",
      "Epoch 41/50\n",
      "1574/1574 [==============================] - 4s 3ms/step - loss: 0.0832 - acc: 0.9733 - val_loss: 0.2959 - val_acc: 0.9340\n",
      "Epoch 42/50\n",
      "1574/1574 [==============================] - 4s 3ms/step - loss: 0.0698 - acc: 0.9759 - val_loss: 0.3255 - val_acc: 0.9416\n",
      "Epoch 43/50\n",
      "1574/1574 [==============================] - 4s 3ms/step - loss: 0.1048 - acc: 0.9689 - val_loss: 0.3344 - val_acc: 0.9365\n",
      "Epoch 44/50\n",
      "1574/1574 [==============================] - 4s 3ms/step - loss: 0.0848 - acc: 0.9746 - val_loss: 0.3288 - val_acc: 0.9239\n",
      "Epoch 45/50\n",
      "1574/1574 [==============================] - 4s 3ms/step - loss: 0.0742 - acc: 0.9708 - val_loss: 0.3426 - val_acc: 0.9264\n",
      "Epoch 46/50\n",
      "1574/1574 [==============================] - 4s 3ms/step - loss: 0.0976 - acc: 0.9670 - val_loss: 0.3913 - val_acc: 0.9315\n",
      "Epoch 47/50\n",
      "1574/1574 [==============================] - 4s 3ms/step - loss: 0.0689 - acc: 0.9778 - val_loss: 0.3609 - val_acc: 0.9365\n",
      "Epoch 48/50\n",
      "1574/1574 [==============================] - 4s 3ms/step - loss: 0.0571 - acc: 0.9771 - val_loss: 0.3458 - val_acc: 0.9213\n",
      "Epoch 49/50\n",
      "1574/1574 [==============================] - 5s 3ms/step - loss: 0.0556 - acc: 0.9816 - val_loss: 0.3301 - val_acc: 0.9340\n",
      "Epoch 50/50\n",
      "1574/1574 [==============================] - 5s 3ms/step - loss: 0.0913 - acc: 0.9701 - val_loss: 0.3039 - val_acc: 0.9340\n"
     ]
    },
    {
     "data": {
      "text/plain": [
       "<keras.callbacks.History at 0x11f6cf190>"
      ]
     },
     "execution_count": 62,
     "metadata": {},
     "output_type": "execute_result"
    }
   ],
   "source": [
    "# Model without history save\n",
    "model.fit(x_train, y_train_labels, batch_size=batch_size, epochs=number_of_epochs,\n",
    "            validation_data=(x_validation, y_test_labels), verbose=1)"
   ]
  },
  {
   "cell_type": "code",
   "execution_count": 63,
   "metadata": {},
   "outputs": [
    {
     "name": "stdout",
     "output_type": "stream",
     "text": [
      "_________________________________________________________________\n",
      "Layer (type)                 Output Shape              Param #   \n",
      "=================================================================\n",
      "conv2d_1 (Conv2D)            (None, 28, 28, 32)        896       \n",
      "_________________________________________________________________\n",
      "conv2d_2 (Conv2D)            (None, 26, 26, 32)        9248      \n",
      "_________________________________________________________________\n",
      "max_pooling2d_1 (MaxPooling2 (None, 13, 13, 32)        0         \n",
      "_________________________________________________________________\n",
      "dropout_1 (Dropout)          (None, 13, 13, 32)        0         \n",
      "_________________________________________________________________\n",
      "conv2d_3 (Conv2D)            (None, 13, 13, 64)        18496     \n",
      "_________________________________________________________________\n",
      "conv2d_4 (Conv2D)            (None, 11, 11, 64)        36928     \n",
      "_________________________________________________________________\n",
      "max_pooling2d_2 (MaxPooling2 (None, 5, 5, 64)          0         \n",
      "_________________________________________________________________\n",
      "dropout_2 (Dropout)          (None, 5, 5, 64)          0         \n",
      "_________________________________________________________________\n",
      "flatten_1 (Flatten)          (None, 1600)              0         \n",
      "_________________________________________________________________\n",
      "dense_1 (Dense)              (None, 64)                102464    \n",
      "_________________________________________________________________\n",
      "dropout_3 (Dropout)          (None, 64)                0         \n",
      "_________________________________________________________________\n",
      "dense_2 (Dense)              (None, 256)               16640     \n",
      "_________________________________________________________________\n",
      "dropout_4 (Dropout)          (None, 256)               0         \n",
      "_________________________________________________________________\n",
      "dense_3 (Dense)              (None, 36)                9252      \n",
      "=================================================================\n",
      "Total params: 193,924\n",
      "Trainable params: 193,924\n",
      "Non-trainable params: 0\n",
      "_________________________________________________________________\n",
      "None\n"
     ]
    }
   ],
   "source": [
    "print(model.summary())"
   ]
  },
  {
   "cell_type": "markdown",
   "metadata": {},
   "source": [
    "# Save Model"
   ]
  },
  {
   "cell_type": "code",
   "execution_count": 64,
   "metadata": {},
   "outputs": [],
   "source": [
    "model.save('SingleCharRecognition_01.h5')"
   ]
  },
  {
   "cell_type": "markdown",
   "metadata": {},
   "source": [
    "# Test Predictions"
   ]
  },
  {
   "cell_type": "code",
   "execution_count": 66,
   "metadata": {},
   "outputs": [],
   "source": [
    "test_imagesPath = folderPath + '/test_images/'\n",
    "os.chdir(test_imagesPath)"
   ]
  },
  {
   "cell_type": "code",
   "execution_count": 67,
   "metadata": {},
   "outputs": [
    {
     "name": "stdout",
     "output_type": "stream",
     "text": [
      "['.DS_Store', 'p1.jpeg', '8.jpeg', 'z.jpeg', '9.jpeg', '4.jpg', '2.jpeg', '6.jpg']\n"
     ]
    }
   ],
   "source": [
    "test_img_files = []\n",
    "for root, dirs, files in os.walk(test_imagesPath):\n",
    "    test_img_files.extend(files)\n",
    "\n",
    "print((test_img_files))\n",
    "\n"
   ]
  },
  {
   "cell_type": "code",
   "execution_count": null,
   "metadata": {},
   "outputs": [],
   "source": [
    "test_img_files[1]"
   ]
  },
  {
   "cell_type": "code",
   "execution_count": null,
   "metadata": {},
   "outputs": [],
   "source": []
  },
  {
   "cell_type": "code",
   "execution_count": null,
   "metadata": {},
   "outputs": [],
   "source": []
  },
  {
   "cell_type": "code",
   "execution_count": null,
   "metadata": {},
   "outputs": [],
   "source": []
  },
  {
   "cell_type": "code",
   "execution_count": 83,
   "metadata": {},
   "outputs": [
    {
     "name": "stdout",
     "output_type": "stream",
     "text": [
      "Input Image is: 4.jpg --> output class is 4\n",
      "Input Image is: 9.jpeg --> output class is 9\n",
      "Input Image is: 6.jpg --> output class is 11\n",
      "Input Image is: 8.jpeg --> output class is 10\n",
      "Input Image is: p1.jpeg --> output class is 8\n",
      "Input Image is: 2.jpeg --> output class is 2\n",
      "Input Image is: z.jpeg --> output class is 35\n"
     ]
    }
   ],
   "source": [
    "sample = [test_img_files[i] for i in np.random.choice(len(files),size=len(test_img_files), replace=False)]\n",
    "\n",
    "for imageFile in sample:\n",
    "    if imageFile == '.DS_Store':\n",
    "        continue\n",
    "    im = read_image(test_imagesPath+imageFile)\n",
    "    im2arr = np.array(im)\n",
    "    im2arr = im2arr.reshape(1,28,28,3)\n",
    "    y_pred = model.predict(im2arr)\n",
    "    pred = y_pred[0]\n",
    "    classes = np.argmax(pred)\n",
    "    print('Input Image is: {} --> output class is {}'.format(imageFile, classes))\n"
   ]
  },
  {
   "cell_type": "markdown",
   "metadata": {},
   "source": [
    "# iOS Model Building"
   ]
  },
  {
   "cell_type": "code",
   "execution_count": 1,
   "metadata": {},
   "outputs": [
    {
     "name": "stderr",
     "output_type": "stream",
     "text": [
      "WARNING:root:Keras version 2.2.4 detected. Last version known to be fully compatible of Keras is 2.1.6 .\n",
      "WARNING:root:TensorFlow version 1.12.0 detected. Last version known to be fully compatible is 1.5.0 .\n"
     ]
    }
   ],
   "source": [
    "import coremltools\n",
    "# import converters\n",
    "# import proto"
   ]
  },
  {
   "cell_type": "code",
   "execution_count": 13,
   "metadata": {},
   "outputs": [],
   "source": [
    "from keras.models import load_model"
   ]
  },
  {
   "cell_type": "code",
   "execution_count": 14,
   "metadata": {},
   "outputs": [],
   "source": [
    "import os\n",
    "os.chdir('/Users/sandeepn/Desktop/NumberPlateRec/DigitRecog')\n"
   ]
  },
  {
   "cell_type": "code",
   "execution_count": 15,
   "metadata": {},
   "outputs": [],
   "source": [
    "core_model = load_model('SingleCharRecognition.h5')"
   ]
  },
  {
   "cell_type": "code",
   "execution_count": 2,
   "metadata": {},
   "outputs": [
    {
     "data": {
      "text/plain": [
       "1"
      ]
     },
     "execution_count": 2,
     "metadata": {},
     "output_type": "execute_result"
    }
   ],
   "source": [
    "coremltools.SPECIFICATION_VERSION\n"
   ]
  },
  {
   "cell_type": "code",
   "execution_count": 16,
   "metadata": {},
   "outputs": [],
   "source": [
    "output_names = ['0','1','2','3','4','5','6','7','8','9','A','B','C','D','E','F','G','H','I','J','K','L','M','N','O','P','Q','R','S','T','U','V','W','X','Y','Z']"
   ]
  },
  {
   "cell_type": "code",
   "execution_count": 17,
   "metadata": {},
   "outputs": [
    {
     "name": "stdout",
     "output_type": "stream",
     "text": [
      "0 : conv2d_5_input, <keras.engine.input_layer.InputLayer object at 0x1230547d0>\n",
      "1 : conv2d_5, <keras.layers.convolutional.Conv2D object at 0x123054cd0>\n",
      "2 : conv2d_5__activation__, <keras.layers.core.Activation object at 0x1230c5410>\n",
      "3 : conv2d_6, <keras.layers.convolutional.Conv2D object at 0x123054d50>\n",
      "4 : conv2d_6__activation__, <keras.layers.core.Activation object at 0x122f56c50>\n",
      "5 : max_pooling2d_3, <keras.layers.pooling.MaxPooling2D object at 0x1230c8c10>\n",
      "6 : conv2d_7, <keras.layers.convolutional.Conv2D object at 0x1230c8050>\n",
      "7 : conv2d_7__activation__, <keras.layers.core.Activation object at 0x1230c5450>\n",
      "8 : conv2d_8, <keras.layers.convolutional.Conv2D object at 0x123079d50>\n",
      "9 : conv2d_8__activation__, <keras.layers.core.Activation object at 0x1230c5490>\n",
      "10 : max_pooling2d_4, <keras.layers.pooling.MaxPooling2D object at 0x1230f4550>\n",
      "11 : flatten_2, <keras.layers.core.Flatten object at 0x1230f4b50>\n",
      "12 : dense_4, <keras.layers.core.Dense object at 0x123102f50>\n",
      "13 : dense_4__activation__, <keras.layers.core.Activation object at 0x1230c5710>\n",
      "14 : dense_5, <keras.layers.core.Dense object at 0x12315ded0>\n",
      "15 : dense_5__activation__, <keras.layers.core.Activation object at 0x1230c54d0>\n",
      "16 : dense_6, <keras.layers.core.Dense object at 0x123174510>\n",
      "17 : dense_6__activation__, <keras.layers.core.Activation object at 0x1230c5510>\n"
     ]
    }
   ],
   "source": [
    "coreml_model = coremltools.converters.keras.convert(core_model, \n",
    "                                                    image_scale=1, \n",
    "                                                    red_bias=-104, green_bias=-123.68, blue_bias=-116.78,\n",
    "                                                    input_names='data', \n",
    "                                                    image_input_names='data', \n",
    "                                                    output_names='Handwritten Value is', \n",
    "                                                    class_labels=output_names)\n",
    "\n",
    "\n"
   ]
  },
  {
   "cell_type": "code",
   "execution_count": 18,
   "metadata": {},
   "outputs": [],
   "source": [
    "coreml_model.author = 'Sandeep Nakka'\n",
    "coreml_model.license = 'Char72k'\n",
    "coreml_model.short_description = 'Handwritter single Digit/character detection (Char 72k)'\n"
   ]
  },
  {
   "cell_type": "code",
   "execution_count": 19,
   "metadata": {},
   "outputs": [],
   "source": [
    "coreml_model.save('HandwrittenSingleCharDetection02.mlmodel')"
   ]
  },
  {
   "cell_type": "code",
   "execution_count": null,
   "metadata": {},
   "outputs": [],
   "source": []
  },
  {
   "cell_type": "code",
   "execution_count": null,
   "metadata": {},
   "outputs": [],
   "source": []
  },
  {
   "cell_type": "code",
   "execution_count": null,
   "metadata": {},
   "outputs": [],
   "source": []
  }
 ],
 "metadata": {
  "kernelspec": {
   "display_name": "Python 2",
   "language": "python",
   "name": "python2"
  },
  "language_info": {
   "codemirror_mode": {
    "name": "ipython",
    "version": 2
   },
   "file_extension": ".py",
   "mimetype": "text/x-python",
   "name": "python",
   "nbconvert_exporter": "python",
   "pygments_lexer": "ipython2",
   "version": "2.7.15"
  }
 },
 "nbformat": 4,
 "nbformat_minor": 2
}
